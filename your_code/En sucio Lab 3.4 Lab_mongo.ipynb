{
 "cells": [
  {
   "cell_type": "code",
   "execution_count": 1,
   "id": "38e11fff",
   "metadata": {},
   "outputs": [],
   "source": [
    "from pymongo import MongoClient\n",
    "client = MongoClient(\"mongodb://localhost:27017\")"
   ]
  },
  {
   "cell_type": "code",
   "execution_count": 2,
   "id": "7b4937c7",
   "metadata": {},
   "outputs": [],
   "source": [
    "db = client.companies   #db = client.companies \n",
    "colec = db.collection  #colec = db.collection \n",
    "\n",
    "\n"
   ]
  },
  {
   "cell_type": "code",
   "execution_count": 3,
   "id": "3843268c",
   "metadata": {},
   "outputs": [
    {
     "data": {
      "text/plain": [
       "[{'name': 'Babelgum'}]"
      ]
     },
     "execution_count": 3,
     "metadata": {},
     "output_type": "execute_result"
    }
   ],
   "source": [
    "matching_companies = colec.find({\"name\": \"Babelgum\"},\n",
    "                                {\"name\": 1, \"_id\": 0})\n",
    "\n",
    "list(matching_companies)\n"
   ]
  },
  {
   "cell_type": "code",
   "execution_count": 4,
   "id": "98d3c066",
   "metadata": {},
   "outputs": [],
   "source": [
    "#query = {\"employees\": {\"$gt\": 5000}}\n",
    "\n",
    "\n",
    "#select= {'_id': 0, 'nombre': 1, 'edad': 1}\n",
    "\n",
    "#result = colec.find(query, select)\n",
    "\n",
    "#list(result)"
   ]
  },
  {
   "cell_type": "code",
   "execution_count": 5,
   "id": "dab25d41",
   "metadata": {},
   "outputs": [],
   "source": [
    "#com = colec.find({\"number_of_employees\": {\"$gt\": 5000}}, \n",
    "                 #{\"name\": 1, \"_id\": 0})\n",
    "\n",
    "#result = list(com)\n",
    "\n",
    "#print(list(com))\n",
    "\n",
    "#com"
   ]
  },
  {
   "cell_type": "code",
   "execution_count": 6,
   "id": "e2c6e8d2",
   "metadata": {},
   "outputs": [],
   "source": [
    "#db = client.companies\n",
    "#colec = db.companies\n",
    "\n",
    "#query = {\"employees\": {\"$gt\": 5000}}\n",
    "\n",
    "#results = colec.find(query)\n",
    "\n",
    "#for company in results:\n",
    "#print(company)\n"
   ]
  },
  {
   "cell_type": "markdown",
   "id": "bbc2efe2",
   "metadata": {},
   "source": [
    "### 2. All the companies that have more than 5000 employees. Limit the search to 20 companies and sort them by **number of employees**."
   ]
  },
  {
   "cell_type": "code",
   "execution_count": 7,
   "id": "2b4501ee",
   "metadata": {},
   "outputs": [
    {
     "name": "stdout",
     "output_type": "stream",
     "text": [
      "{'name': 'Facebook'}\n",
      "{'name': 'eBay'}\n",
      "{'name': 'Cisco'}\n",
      "{'name': 'Yahoo!'}\n",
      "{'name': 'Google'}\n",
      "{'name': 'Intel'}\n",
      "{'name': 'Nintendo'}\n",
      "{'name': 'Adobe Systems'}\n",
      "{'name': 'Sony'}\n",
      "{'name': 'PayPal'}\n",
      "{'name': 'The Walt Disney Company'}\n",
      "{'name': 'AOL'}\n",
      "{'name': 'Webkinz'}\n",
      "{'name': 'Sun Microsystems'}\n",
      "{'name': 'Nokia'}\n",
      "{'name': 'Rakuten'}\n",
      "{'name': 'Microsoft'}\n",
      "{'name': 'Apple'}\n",
      "{'name': 'NetApp'}\n",
      "{'name': 'Motorola Solutions'}\n"
     ]
    }
   ],
   "source": [
    "com = colec.find({\"number_of_employees\": {\"$gt\": 5000}}, {\"name\": 1, \"_id\": 0}).limit(20)\n",
    "result = list(com)\n",
    "\n",
    "for doc in result:\n",
    "    print(doc)\n"
   ]
  },
  {
   "cell_type": "code",
   "execution_count": 8,
   "id": "019f0f0f",
   "metadata": {},
   "outputs": [
    {
     "name": "stdout",
     "output_type": "stream",
     "text": [
      "Facebook\n",
      "eBay\n",
      "Cisco\n",
      "Yahoo!\n",
      "Google\n",
      "Intel\n",
      "Nintendo\n",
      "Adobe Systems\n",
      "Sony\n",
      "PayPal\n",
      "The Walt Disney Company\n",
      "AOL\n",
      "Webkinz\n",
      "Sun Microsystems\n",
      "Nokia\n",
      "Rakuten\n",
      "Microsoft\n",
      "Apple\n",
      "NetApp\n",
      "Motorola Solutions\n"
     ]
    }
   ],
   "source": [
    "com = colec.find({\"number_of_employees\": {\"$gt\": 5000}}, {\"name\": 1, \"_id\": 0})\n",
    "\n",
    "result = list(com)\n",
    "\n",
    "\n",
    "for doc in result[:20]:\n",
    "    print(doc[\"name\"])"
   ]
  },
  {
   "cell_type": "markdown",
   "id": "63a2e6c2",
   "metadata": {},
   "source": [
    "3. All the companies founded between 2000 and 2005, both years included. Retrieve only the name and founded_year fields."
   ]
  },
  {
   "cell_type": "markdown",
   "id": "af8ffb11",
   "metadata": {},
   "source": []
  },
  {
   "cell_type": "markdown",
   "id": "6d3a4801",
   "metadata": {},
   "source": [
    "All the companies founded between 2000 and 2005"
   ]
  },
  {
   "cell_type": "code",
   "execution_count": 59,
   "id": "9259136f",
   "metadata": {},
   "outputs": [
    {
     "name": "stdout",
     "output_type": "stream",
     "text": [
      "Company: Wetpaint, Foundation Year: 2005\n",
      "Company: Zoho, Foundation Year: 2005\n",
      "Company: Digg, Foundation Year: 2004\n",
      "Company: Facebook, Foundation Year: 2004\n",
      "Company: Omnidrive, Foundation Year: 2005\n",
      "Company: StumbleUpon, Foundation Year: 2002\n",
      "Company: Gizmoz, Foundation Year: 2003\n",
      "Company: Helio, Foundation Year: 2005\n",
      "Company: Plaxo, Foundation Year: 2002\n",
      "Company: Technorati, Foundation Year: 2002\n",
      "Company: AddThis, Foundation Year: 2004\n",
      "Company: Veoh, Foundation Year: 2004\n",
      "Company: Jingle Networks, Foundation Year: 2005\n",
      "Company: Meetup, Foundation Year: 2002\n",
      "Company: LifeLock, Foundation Year: 2005\n",
      "Company: Wesabe, Foundation Year: 2005\n",
      "Company: Jangl SMS, Foundation Year: 2005\n",
      "Company: SmugMug, Foundation Year: 2002\n",
      "Company: Jajah, Foundation Year: 2005\n",
      "Company: Skype, Foundation Year: 2003\n"
     ]
    }
   ],
   "source": [
    "com_fund = colec.find({\"founded_year\": {\"$gte\": 2000, \"$lte\": 2005}},\n",
    "                      {\"name\": 1, \"founded_year\": 1}\n",
    ").limit(20)\n",
    "\n",
    "com_fund\n",
    "\n",
    "for doc in com_fund:\n",
    "    print(f\"Company: {doc['name']}, Foundation Year: {doc['founded_year']}\")\n"
   ]
  },
  {
   "cell_type": "code",
   "execution_count": 10,
   "id": "1c7c32d9",
   "metadata": {},
   "outputs": [
    {
     "name": "stdout",
     "output_type": "stream",
     "text": [
      "{'name': 'Wetpaint', 'founded_year': 2005}\n",
      "{'name': 'Zoho', 'founded_year': 2005}\n",
      "{'name': 'Digg', 'founded_year': 2004}\n",
      "{'name': 'Facebook', 'founded_year': 2004}\n",
      "{'name': 'Omnidrive', 'founded_year': 2005}\n",
      "{'name': 'StumbleUpon', 'founded_year': 2002}\n",
      "{'name': 'Gizmoz', 'founded_year': 2003}\n",
      "{'name': 'Helio', 'founded_year': 2005}\n",
      "{'name': 'Plaxo', 'founded_year': 2002}\n",
      "{'name': 'Technorati', 'founded_year': 2002}\n",
      "{'name': 'AddThis', 'founded_year': 2004}\n",
      "{'name': 'Veoh', 'founded_year': 2004}\n",
      "{'name': 'Jingle Networks', 'founded_year': 2005}\n",
      "{'name': 'Meetup', 'founded_year': 2002}\n",
      "{'name': 'LifeLock', 'founded_year': 2005}\n",
      "{'name': 'Wesabe', 'founded_year': 2005}\n",
      "{'name': 'Jangl SMS', 'founded_year': 2005}\n",
      "{'name': 'SmugMug', 'founded_year': 2002}\n",
      "{'name': 'Jajah', 'founded_year': 2005}\n",
      "{'name': 'Skype', 'founded_year': 2003}\n"
     ]
    }
   ],
   "source": [
    "com_fund = colec.find(\n",
    "    {\"founded_year\": {\"$gte\": 2000, \"$lte\": 2005}},\n",
    "    {\"name\": 1, \"founded_year\": 1, \"_id\": 0}\n",
    ").limit(20)\n",
    "\n",
    "for doc in com_fund:\n",
    "    print(doc)\n",
    "\n"
   ]
  },
  {
   "cell_type": "markdown",
   "id": "2b533996",
   "metadata": {},
   "source": [
    "### 5. All the companies that have less than 1000 employees and have been founded before 2005. Order them by the number of employees and limit the search to 10 companies."
   ]
  },
  {
   "cell_type": "code",
   "execution_count": 11,
   "id": "ed33a567",
   "metadata": {},
   "outputs": [
    {
     "name": "stdout",
     "output_type": "stream",
     "text": [
      "Company: stylediary, Foundation Year: 2004, Number of Employees: 0\n",
      "Company: PartnerUp, Foundation Year: 2005, Number of Employees: 0\n",
      "Company: ThisNext, Foundation Year: 2005, Number of Employees: 0\n",
      "Company: Skype, Foundation Year: 2003, Number of Employees: 0\n",
      "Company: Fox Interactive Media, Foundation Year: 1979, Number of Employees: 0\n",
      "Company: Woophy, Foundation Year: 2005, Number of Employees: 0\n",
      "Company: Ticketmaster, Foundation Year: 1976, Number of Employees: 0\n",
      "Company: Marakana, Foundation Year: 2005, Number of Employees: 0\n",
      "Company: Attributor, Foundation Year: 2005, Number of Employees: 0\n",
      "Company: Wirenode, Foundation Year: 2005, Number of Employees: 0\n",
      "Company: YouTube, Foundation Year: 2005, Number of Employees: 0\n",
      "Company: MindTouch, Foundation Year: 2004, Number of Employees: 0\n",
      "Company: ElephantDrive, Foundation Year: 2005, Number of Employees: 0\n",
      "Company: Yeigo, Foundation Year: 2005, Number of Employees: 0\n",
      "Company: Compete, Foundation Year: 2000, Number of Employees: 0\n",
      "Company: Eurekster, Foundation Year: 2004, Number of Employees: 0\n",
      "Company: Simpy, Foundation Year: 2004, Number of Employees: 0\n",
      "Company: Snoozester, Foundation Year: 2005, Number of Employees: 0\n",
      "Company: Ceedo Technologies, Foundation Year: 2005, Number of Employees: 0\n",
      "Company: Bebo, Foundation Year: 2005, Number of Employees: 0\n"
     ]
    }
   ],
   "source": [
    "less_1000 = colec.find(\n",
    "    {\n",
    "        \"founded_year\": {\"$lte\": 2005},\n",
    "        \"number_of_employees\": {\"$lte\": 1000}\n",
    "    },\n",
    "    {\"name\": 1, \"founded_year\": 1, \"number_of_employees\": 1, \"_id\": 0}\n",
    ").sort(\"number_of_employees\", 1).limit(20)\n",
    "\n",
    "for doc in less_1000:\n",
    "    print(f\"Company: {doc['name']}, Foundation Year: {doc['founded_year']}, Number of Employees: {doc['number_of_employees']}\")\n"
   ]
  },
  {
   "cell_type": "markdown",
   "id": "4b4e318d",
   "metadata": {},
   "source": [
    "### 6. All the companies that don't include the `partners` field."
   ]
  },
  {
   "cell_type": "code",
   "execution_count": 12,
   "id": "b39b13aa",
   "metadata": {},
   "outputs": [
    {
     "name": "stdout",
     "output_type": "stream",
     "text": [
      "Company: Bebo has no partner field.\n"
     ]
    }
   ],
   "source": [
    "no_partn = colec.find(\n",
    "    {\"partners\": {\"$exists\": False}}\n",
    ")\n",
    "\n",
    "print(f\"Company: {doc['name']} has no partner field.\")\n",
    "        "
   ]
  },
  {
   "cell_type": "code",
   "execution_count": 13,
   "id": "53dbdda2",
   "metadata": {},
   "outputs": [
    {
     "name": "stdout",
     "output_type": "stream",
     "text": [
      "Company: Bebo has no partner field.\n"
     ]
    }
   ],
   "source": [
    "no_partner = colec.find(\n",
    "    {\"partners\": {\"$exists\": False}}\n",
    ")\n",
    "\n",
    "print(f\"Company: {doc['name']} has no partner field.\")\n"
   ]
  },
  {
   "cell_type": "markdown",
   "id": "a7f2b3f6",
   "metadata": {},
   "source": [
    "### 7. All the companies that have a null type of value on the `category_code` field."
   ]
  },
  {
   "cell_type": "code",
   "execution_count": 14,
   "id": "63f7b2bf",
   "metadata": {},
   "outputs": [
    {
     "name": "stdout",
     "output_type": "stream",
     "text": [
      "Company: Collective\n",
      "Company: Snimmer\n",
      "Company: KoolIM\n",
      "Company: Level9 Media\n",
      "Company: VidKing\n",
      "Company: Drigg\n",
      "Company: SpaceTime\n",
      "Company: Touch Clarity\n",
      "Company: MMDAYS\n",
      "Company: Inside Group\n",
      "Company: Repeater Store\n",
      "Company: Tapesh\n",
      "Company: iPersians\n",
      "Company: NewPersia\n",
      "Company: Pyra Labs\n",
      "Company: Feedmap\n",
      "Company: NuvoMedia\n",
      "Company: Intwine\n",
      "Company: The Weinstein Company\n",
      "Company: ExecuNet\n"
     ]
    }
   ],
   "source": [
    "null_cat = colec.find(\n",
    "    {\"category_code\": None}\n",
    ").limit(20)\n",
    "\n",
    "for doc in null_cat:\n",
    "    print(f\"Company: {doc['name']}\")\n"
   ]
  },
  {
   "cell_type": "markdown",
   "id": "36866e7e",
   "metadata": {},
   "source": [
    "8. All the companies that have at least 100 employees but less than 1000. Retrieve only the name and number of employees fields."
   ]
  },
  {
   "cell_type": "code",
   "execution_count": 15,
   "id": "3de20d72",
   "metadata": {},
   "outputs": [
    {
     "name": "stdout",
     "output_type": "stream",
     "text": [
      "Company Name: AdventNet, Number of Employees: 600\n",
      "Company Name: AddThis, Number of Employees: 120\n",
      "Company Name: OpenX, Number of Employees: 305\n",
      "Company Name: LifeLock, Number of Employees: 644\n",
      "Company Name: Jajah, Number of Employees: 110\n",
      "Company Name: Livestream, Number of Employees: 120\n",
      "Company Name: Ustream, Number of Employees: 250\n",
      "Company Name: iContact, Number of Employees: 300\n",
      "Company Name: Yelp, Number of Employees: 800\n",
      "Company Name: Dailymotion, Number of Employees: 120\n",
      "Company Name: RockYou, Number of Employees: 106\n",
      "Company Name: Meebo, Number of Employees: 200\n",
      "Company Name: Eventbrite, Number of Employees: 200\n",
      "Company Name: Box, Number of Employees: 950\n",
      "Company Name: Conduit, Number of Employees: 215\n",
      "Company Name: Redfin, Number of Employees: 100\n",
      "Company Name: oDesk, Number of Employees: 120\n",
      "Company Name: Simply Hired, Number of Employees: 100\n",
      "Company Name: PhotoBox, Number of Employees: 600\n",
      "Company Name: Spreadshirt, Number of Employees: 230\n"
     ]
    }
   ],
   "source": [
    "more_100 = colec.find(\n",
    "    {\"number_of_employees\": {\"$gte\": 100, \"$lte\": 1000}},\n",
    "    {\"name\": 1, \"number_of_employees\": 1, \"_id\": 0}\n",
    ").limit(20)\n",
    "\n",
    "for doc in more_100:\n",
    "    print(f\"Company Name: {doc['name']}, Number of Employees: {doc['number_of_employees']}\")"
   ]
  },
  {
   "cell_type": "markdown",
   "id": "546c9873",
   "metadata": {},
   "source": [
    "# 9. Order all the companies by their IPO price in a descending order."
   ]
  },
  {
   "cell_type": "code",
   "execution_count": 16,
   "id": "f9b9ea9d",
   "metadata": {},
   "outputs": [
    {
     "name": "stdout",
     "output_type": "stream",
     "text": [
      "Company: eBay, IPO Value: {'valuation_amount': None, 'valuation_currency_code': 'USD', 'pub_year': 1998, 'pub_month': 10, 'pub_day': 2, 'stock_symbol': 'NASDAQ:EBAY'}\n",
      "Company: Viacom, IPO Value: {'valuation_amount': None, 'valuation_currency_code': 'USD', 'pub_year': None, 'pub_month': None, 'pub_day': None, 'stock_symbol': 'NYSE:VIA'}\n",
      "Company: Facebook, IPO Value: {'valuation_amount': 104000000000.0, 'valuation_currency_code': 'USD', 'pub_year': 2012, 'pub_month': 5, 'pub_day': 18, 'stock_symbol': 'NASDAQ:FB'}\n",
      "Company: Twitter, IPO Value: {'valuation_amount': 18100000000.0, 'valuation_currency_code': 'USD', 'pub_year': 2013, 'pub_month': 11, 'pub_day': 7, 'stock_symbol': 'NYSE:TWTR'}\n",
      "Company: CBS, IPO Value: {'valuation_amount': None, 'valuation_currency_code': 'USD', 'pub_year': None, 'pub_month': None, 'pub_day': None, 'stock_symbol': 'NYSE:CBS'}\n"
     ]
    }
   ],
   "source": [
    "ipo_val=colec.find(\n",
    "        {\"ipo.valuation_amount\": {\"$exists\": True}}\n",
    ").sort(\"ipo.ipo_value\", -1).limit(5)\n",
    "\n",
    "for doc in ipo_val:\n",
    "    print(f\"Company: {doc['name']}, IPO Value: {doc['ipo']}\")"
   ]
  },
  {
   "cell_type": "markdown",
   "id": "348335c7",
   "metadata": {},
   "source": [
    "ipo_values = colec.find(\n",
    "    {\"ipo.valuation_amount\": {\"$exists\": True}},\n",
    "    {\"name\": 1, \"ipo.valuation_amount\": 1, \"_id\": 0}\n",
    ").sort(\"ipo.valuation_amount\", -1)\n",
    "\n"
   ]
  },
  {
   "cell_type": "markdown",
   "id": "ba3e233e",
   "metadata": {},
   "source": [
    "### 10. Retrieve the 10 companies with more employees, order by the `number of employees`\n"
   ]
  },
  {
   "cell_type": "code",
   "execution_count": 17,
   "id": "2ad9e1ef",
   "metadata": {},
   "outputs": [
    {
     "name": "stdout",
     "output_type": "stream",
     "text": [
      "Company: Siemens, Number of Employees: 405000\n",
      "Company: IBM, Number of Employees: 388000\n",
      "Company: Toyota, Number of Employees: 320000\n",
      "Company: PayPal, Number of Employees: 300000\n",
      "Company: Nippon Telegraph and Telephone Corporation, Number of Employees: 227000\n",
      "Company: Samsung Electronics, Number of Employees: 221726\n",
      "Company: Accenture, Number of Employees: 205000\n",
      "Company: Tata Consultancy Services, Number of Employees: 200300\n",
      "Company: Flextronics International, Number of Employees: 200000\n",
      "Company: Safeway, Number of Employees: 186000\n"
     ]
    }
   ],
   "source": [
    "top_10 = colec.find(\n",
    "    {},\n",
    "    {\"name\": 1, \"number_of_employees\": 1, \"_id\": 0}\n",
    ").sort(\"number_of_employees\", -1).limit(10)\n",
    "\n",
    "for doc in top_10:\n",
    "    print(f\"Company: {doc['name']}, Number of Employees: {doc['number_of_employees']}\")\n"
   ]
  },
  {
   "cell_type": "markdown",
   "id": "50c5c590",
   "metadata": {},
   "source": [
    "### 11. All the companies founded on the second semester of the year. Limit your search to 1000 companies."
   ]
  },
  {
   "cell_type": "code",
   "execution_count": 18,
   "id": "c105d6bd",
   "metadata": {},
   "outputs": [
    {
     "name": "stdout",
     "output_type": "stream",
     "text": [
      "Company: Wetpaint, Founded Month: 10\n",
      "Company: Zoho, Founded Month: 9\n",
      "Company: Digg, Founded Month: 10\n",
      "Company: Omnidrive, Founded Month: 11\n",
      "Company: Postini, Founded Month: 6\n",
      "Company: Geni, Founded Month: 6\n",
      "Company: Fox Interactive Media, Founded Month: 6\n",
      "Company: eBay, Founded Month: 9\n",
      "Company: Joost, Founded Month: 10\n",
      "Company: Plaxo, Founded Month: 11\n",
      "Company: Powerset, Founded Month: 10\n",
      "Company: Technorati, Founded Month: 6\n",
      "Company: Sparter, Founded Month: 6\n",
      "Company: Kyte, Founded Month: 12\n",
      "Company: Thoof, Founded Month: 12\n",
      "Company: Jingle Networks, Founded Month: 9\n",
      "Company: LifeLock, Founded Month: 8\n",
      "Company: Wesabe, Founded Month: 12\n",
      "Company: SmugMug, Founded Month: 11\n",
      "Company: Google, Founded Month: 9\n"
     ]
    }
   ],
   "source": [
    "second_sem = colec.find (\n",
    "    {\"founded_month\": {\"$gte\": 6, \"$lte\": 12}}\n",
    ").limit(20)\n",
    "\n",
    "for doc in second_sem:\n",
    "    print (f\"Company: {doc['name']}, Founded Month: {doc['founded_month']}\")\n"
   ]
  },
  {
   "cell_type": "markdown",
   "id": "602a3a5a",
   "metadata": {},
   "source": [
    "12. All the companies founded before 2000 that have an acquisition amount of more than 10.000.000"
   ]
  },
  {
   "cell_type": "code",
   "execution_count": 19,
   "id": "f178c72c",
   "metadata": {},
   "outputs": [
    {
     "name": "stdout",
     "output_type": "stream",
     "text": [
      "Company: AdventNet, Founded Year: 1996\n",
      "Company: Postini, Founded Year: 1999\n",
      "Company: Fox Interactive Media, Founded Year: 1979\n",
      "Company: eBay, Founded Year: 1995\n",
      "Company: CBS, Founded Year: 1986\n",
      "Company: Viacom, Founded Year: 1971\n",
      "Company: Cisco, Founded Year: 1984\n",
      "Company: Yahoo!, Founded Year: 1994\n",
      "Company: Google, Founded Year: 1998\n",
      "Company: Intel, Founded Year: 1968\n",
      "Company: SideStep, Founded Year: 1999\n",
      "Company: BabyCenter, Founded Year: 1997\n",
      "Company: Zazzle, Founded Year: 1999\n",
      "Company: Ticketmaster, Founded Year: 1976\n",
      "Company: RegOnline, Founded Year: 1996\n",
      "Company: Scripps Networks Interactive, Founded Year: 1994\n",
      "Company: Recipezaar, Founded Year: 1999\n",
      "Company: ictv, Founded Year: 1994\n",
      "Company: Piczo, Founded Year: 1990\n",
      "Company: Cyworld, Founded Year: 1999\n"
     ]
    }
   ],
   "source": [
    "before_2000 = colec.find(\n",
    "    {\"founded_year\": {\"$lt\": 2000}}\n",
    ").limit(20)\n",
    "\n",
    "for doc in before_2000:\n",
    "    print(f\"Company: {doc['name']}, Founded Year: {doc['founded_year']}\")\n"
   ]
  },
  {
   "cell_type": "code",
   "execution_count": 20,
   "id": "83d14800",
   "metadata": {},
   "outputs": [
    {
     "name": "stdout",
     "output_type": "stream",
     "text": [
      "Company: The FeedRoom, Founded Year: 1999\n",
      "Company: Network Physics, Founded Year: 1999\n",
      "Company: Wavesat, Founded Year: 1993\n",
      "Company: Datum Legal, Founded Year: 1994\n"
     ]
    }
   ],
   "source": [
    "#Resultado correcto, ya que las abajo me sale una lista mucho mas larga. \n",
    "\n",
    "\n",
    "before_2000 = colec.find(\n",
    "    {\"founded_year\": {\"$lt\": 2000}, \"acquisition.price_amount\": 10000000}  \n",
    ")\n",
    "\n",
    "for doc in before_2000:\n",
    "    print(f\"Company: {doc['name']}, Founded Year: {doc['founded_year']}\")\n"
   ]
  },
  {
   "cell_type": "markdown",
   "id": "e7105c0c",
   "metadata": {},
   "source": [
    "# All the companies that have been acquired after 2010, order by the acquisition amount, and retrieve only their name and acquisition field."
   ]
  },
  {
   "cell_type": "code",
   "execution_count": 49,
   "id": "5aeaefff",
   "metadata": {},
   "outputs": [
    {
     "name": "stdout",
     "output_type": "stream",
     "text": [
      "Company: Geni, Acquisition: None\n",
      "Company: Mashery, Acquisition: None\n",
      "Company: delicious, Acquisition: None\n",
      "Company: blogTV, Acquisition: None\n",
      "Company: Kyte, Acquisition: None\n"
     ]
    }
   ],
   "source": [
    "after_2010 =colec.find(\n",
    "        { \"acquisition.acquired_year\": {\"$gt\":2010}}\n",
    ").sort(\"acquisition.price_amount\", 1).limit (5)\n",
    "                                    \n",
    "\n",
    "for doc in after_2010:\n",
    "    print(f\"Company: {doc['name']}, Acquisition: {doc['acquisition']['price_amount']}\")\n"
   ]
  },
  {
   "cell_type": "code",
   "execution_count": 22,
   "id": "f5070f55",
   "metadata": {},
   "outputs": [
    {
     "name": "stdout",
     "output_type": "stream",
     "text": [
      "Company: Geni, Acquisition: None\n",
      "Company: Mashery, Acquisition: None\n",
      "Company: delicious, Acquisition: None\n",
      "Company: blogTV, Acquisition: None\n",
      "Company: Kyte, Acquisition: None\n"
     ]
    }
   ],
   "source": [
    "after_2010 = colec.find(\n",
    "    {\"acquisition.acquired_year\": {\"$gt\": 2010}}\n",
    ").sort(\"acquisition.price_amount\", 1).limit(5)\n",
    "\n",
    "for doc in after_2010:\n",
    "    print(f\"Company: {doc['name']}, Acquisition: {doc['acquisition']['price_amount']}\")\n"
   ]
  },
  {
   "cell_type": "code",
   "execution_count": 23,
   "id": "388c9a5a",
   "metadata": {},
   "outputs": [
    {
     "data": {
      "text/plain": [
       "<pymongo.cursor.Cursor at 0x110681de0>"
      ]
     },
     "execution_count": 23,
     "metadata": {},
     "output_type": "execute_result"
    }
   ],
   "source": [
    "after_2010 = colec.find(\n",
    "    {\"acquisition.acquired_year\": {\"$gt\": 2010}}\n",
    ").sort(\"acquisition.price_amount\", 1).limit(5)\n",
    "\n",
    "after_2010\n"
   ]
  },
  {
   "cell_type": "code",
   "execution_count": 24,
   "id": "7f443bc7",
   "metadata": {},
   "outputs": [
    {
     "name": "stdout",
     "output_type": "stream",
     "text": [
      "{'_id': ObjectId('52cdef7c4bab8bd675297d91'), 'name': 'Geni', 'permalink': 'geni', 'crunchbase_url': 'http://www.crunchbase.com/company/geni', 'homepage_url': 'http://www.geni.com', 'blog_url': 'http://blog.geni.com', 'blog_feed_url': 'http://blog.geni.com/index.rdf', 'twitter_username': 'geni', 'category_code': 'web', 'number_of_employees': 18, 'founded_year': 2006, 'founded_month': 6, 'founded_day': 1, 'deadpooled_year': None, 'deadpooled_month': None, 'deadpooled_day': None, 'deadpooled_url': None, 'tag_list': 'geni, geneology, social, family, genealogy', 'alias_list': '', 'email_address': '', 'phone_number': '', 'description': 'Geneology social network site', 'created_at': 'Thu May 31 19:52:34 UTC 2007', 'updated_at': 'Wed Oct 10 14:01:29 UTC 2012', 'overview': '<p>Geni is an online community of casual and expert genealogists working together to break the barriers limiting family history research today.</p>\\n\\n<p>They share knowledge and collaborate to create one World Family Tree from millions of individual family trees from around the globe. Visitors and members can add and invite relatives to build our their family tree, with no limit on the number of people, documents, photos or videos added, while personally connecting with history and more than 55 million other living members and their ancestors.</p>', 'image': {'available_sizes': [[[150, 60], 'assets/images/resized/0000/1945/1945v1-max-150x150.png'], [[166, 67], 'assets/images/resized/0000/1945/1945v1-max-250x250.png'], [[166, 67], 'assets/images/resized/0000/1945/1945v1-max-450x450.png']], 'attribution': None}, 'products': [{'name': 'Geni', 'permalink': 'geni'}], 'relationships': [{'is_past': False, 'title': 'CEO', 'person': {'first_name': 'Noah', 'last_name': 'Tutak', 'permalink': 'noah-tutak'}}, {'is_past': False, 'title': 'CTO', 'person': {'first_name': 'Justin', 'last_name': 'Balthrop', 'permalink': 'justin-balthrop'}}, {'is_past': False, 'title': 'Board Member', 'person': {'first_name': 'Alan', 'last_name': 'Braverman', 'permalink': 'alan-braverman'}}, {'is_past': False, 'title': 'Board of Directors', 'person': {'first_name': 'Peter', 'last_name': 'Thiel', 'permalink': 'peter-thiel'}}, {'is_past': True, 'title': 'Designer & Co-founder', 'person': {'first_name': 'Elliot', 'last_name': 'Loh', 'permalink': 'elliot-loh'}}, {'is_past': True, 'title': 'Founder & Chairman', 'person': {'first_name': 'David', 'last_name': 'Sacks', 'permalink': 'david-sacks'}}, {'is_past': True, 'title': 'CTO', 'person': {'first_name': 'Amos', 'last_name': 'Elliston', 'permalink': 'amos-elliston'}}, {'is_past': True, 'title': 'VP Product', 'person': {'first_name': 'Elliot', 'last_name': 'Loh', 'permalink': 'elliot-loh'}}, {'is_past': True, 'title': 'Board Member', 'person': {'first_name': 'George', 'last_name': 'Zachary', 'permalink': 'george-zachary'}}, {'is_past': True, 'title': 'Sr. Software Engineer', 'person': {'first_name': 'Andrew', 'last_name': 'Arrow', 'permalink': 'andrew-arrow'}}, {'is_past': True, 'title': 'Senior Software Engineer', 'person': {'first_name': 'Zack', 'last_name': 'Parker', 'permalink': 'zack-parker'}}, {'is_past': True, 'title': 'COO', 'person': {'first_name': 'Elliot', 'last_name': 'Loh', 'permalink': 'elliot-loh'}}, {'is_past': True, 'title': 'Co-founder', 'person': {'first_name': 'George', 'last_name': 'Ishii', 'permalink': 'george-ishii'}}], 'competitions': [{'competitor': {'name': 'Ancestry', 'permalink': 'ancestry-com'}}, {'competitor': {'name': 'Familybuilder', 'permalink': 'familybuilder'}}], 'providerships': [], 'total_money_raised': '$16.5M', 'funding_rounds': [{'id': 6, 'round_code': 'a', 'source_url': '', 'source_description': '', 'raised_amount': 1500000, 'raised_currency_code': 'USD', 'funded_year': 2007, 'funded_month': 1, 'funded_day': 1, 'investments': [{'company': None, 'financial_org': {'name': 'Founders Fund', 'permalink': 'founders-fund'}, 'person': None}]}, {'id': 7, 'round_code': 'b', 'source_url': 'http://www.techcrunch.com/2007/03/05/100-million-valuation-for-geni/', 'source_description': '100 Million Valuation for Geni', 'raised_amount': 10000000, 'raised_currency_code': 'USD', 'funded_year': 2007, 'funded_month': 3, 'funded_day': 1, 'investments': [{'company': None, 'financial_org': {'name': 'Charles River Ventures', 'permalink': 'charles-river-ventures'}, 'person': None}]}, {'id': 4676, 'round_code': 'c', 'source_url': 'http://www.readwriteweb.com/archives/geni_gets_another_5_million_fo.php', 'source_description': 'Geni Gets Another $5 Million for Social Networking and Genealogy Site: What About Yammer?', 'raised_amount': 5000000, 'raised_currency_code': 'USD', 'funded_year': 2009, 'funded_month': 1, 'funded_day': 19, 'investments': [{'company': None, 'financial_org': {'name': 'Charles River Ventures', 'permalink': 'charles-river-ventures'}, 'person': None}, {'company': None, 'financial_org': {'name': 'Founders Fund', 'permalink': 'founders-fund'}, 'person': None}]}], 'investments': [], 'acquisition': {'price_amount': None, 'price_currency_code': 'USD', 'term_code': None, 'source_url': 'http://techcrunch.com/2012/11/28/all-in-the-family-myheritage-buys-former-yammer-stablemate-geni-com-raises-25m/', 'source_description': 'MyHeritage acquires Geni and $25M to build family tree of the whole world', 'acquired_year': 2012, 'acquired_month': 11, 'acquired_day': 28, 'acquiring_company': {'name': 'MyHeritage', 'permalink': 'myheritage'}}, 'acquisitions': [], 'offices': [{'description': 'Headquarters', 'address1': '9229 W. Sunset Blvd.', 'address2': '', 'zip_code': '90069', 'city': 'West Hollywood', 'state_code': 'CA', 'country_code': 'USA', 'latitude': 34.090368, 'longitude': -118.393064}], 'milestones': [{'id': 15460, 'description': 'Announced hire of new CEO', 'stoned_year': 2011, 'stoned_month': 2, 'stoned_day': 21, 'source_url': 'http://www.geni.com/corp/press/geni-names-noah-tutak-to-serve-as-ceo/', 'source_text': None, 'source_description': 'Geni press release', 'stoneable_type': 'Company', 'stoned_value': None, 'stoned_value_type': None, 'stoned_acquirer': None, 'stoneable': {'name': 'Geni', 'permalink': 'geni'}}], 'ipo': None, 'video_embeds': [{'embed_code': '<object width=\"425\" height=\"344\"><param name=\"movie\" value=\"http://www.youtube.com/v/BBKbReG_TOI&hl=en\"></param><param name=\"wmode\" value=\"transparent\"></param><embed src=\"http://www.youtube.com/v/BBKbReG_TOI&hl=en\" type=\"application/x-shockwave-flash\" wmode=\"transparent\" width=\"425\" height=\"344\"></embed></object>', 'description': '<p><a href=\"http://pitches.techcrunch.com/pitch/29-geni\" title=\"Geni&#8217;s pitch\">Geni&#8217;s pitch</a> from TechCrunch Elevator Pitches</p>'}, {'embed_code': '<div style=\"background-color:#dedede;width:320px;text-align:center;font-family:Arial,sans-serif;font-size:10pt;padding-top:4px;padding-bottom:5px;margin:0;\"><a href=\"http://www.vator.tv/pitch/show/Creating-the-Worlds-Family-Tree\" target=\"_blank\">See this video on <span style=\"color:#38538e;font-weight: bold;\">Vator</span><span style=\"color:#50a756;font-weight: bold;\">.tv</span>&nbsp;&raquo;</a></div><embed src=\"http://www.vator.tv/embed/vpembed.swf\" FlashVars=\"v=179_Geni.flv&b=2&i=179&o=embed&vp=1&l=http://www.vator.tv/pitch/show/Creating-the-Worlds-Family-Tree\" allowScriptAccess=\"always\" allowFullScreen=\"true\" bgcolor=\"#ffffff\" width=\"320\" height=\"265\" pluginspage=\"http://www.macromedia.com/go/getflashplayer\" type=\"application/x-shockwave-flash\"></embed>', 'description': ''}, {'embed_code': '<div style=\"width:320px;\"><div style=\"background-color:#dedede;width:320px;text-align:center;font-family:Arial,sans-serif;font-size:10pt;padding-top:4px;padding-bottom:5px;margin:0;\"><a href=\"http://vator.tv/news/show/2008-03-24-vator-box-pays-its-respects-to-respectance-and-geni\" target=\"_blank\">See this video on <span style=\"color:#38538e;font-weight: bold;\">Vator</span><span style=\"color:#50a756;font-weight: bold;\">.tv</span>&nbsp;&raquo;</a></div><embed src=\"http://vator.tv/embed/vpembed.swf\" FlashVars=\"v=2407_Vator-Box--08-5.2.flv&b=2&i=2407&o=embed&vp=1&l=http://vator.tv/news/show/2008-03-24-vator-box-pays-its-respects-to-respectance-and-geni\" allowScriptAccess=\"always\" allowFullScreen=\"true\" bgcolor=\"#ffffff\" width=\"320\" height=\"265\" pluginspage=\"http://www.macromedia.com/go/getflashplayer\" type=\"application/x-shockwave-flash\"></embed></div>', 'description': '<p>VatorTV: 3/2008</p>'}], 'screenshots': [], 'external_links': [], 'partners': []}\n",
      "{'_id': ObjectId('52cdef7c4bab8bd675297ddd'), 'name': 'Mashery', 'permalink': 'mashery', 'crunchbase_url': 'http://www.crunchbase.com/company/mashery', 'homepage_url': 'http://www.mashery.com', 'blog_url': 'http://blog.mashery.com', 'blog_feed_url': 'http://blog.mashery.com/feed/', 'twitter_username': 'Mashery', 'category_code': 'enterprise', 'number_of_employees': 0, 'founded_year': 2006, 'founded_month': 5, 'founded_day': 1, 'deadpooled_year': None, 'deadpooled_month': None, 'deadpooled_day': None, 'deadpooled_url': None, 'tag_list': 'api, api-management, saas, enterprise, apis, platform, web-services, analytics', 'alias_list': '', 'email_address': 'support@mashery.com', 'phone_number': '(415) 684-7200', 'description': 'API and developer services', 'created_at': 'Tue Feb 05 22:28:15 UTC 2008', 'updated_at': 'Fri Aug 02 19:00:24 UTC 2013', 'overview': '<p>Mashery is the world&#8217;s leading provider of API technology and services. We have helped over 175 top brands—including USA TODAY, Comcast, Hoover&#8217;s, Klout, Associated Press, Rdio, and Travelocity—take advantage of APIs to build new revenue channels, speed time-to-market, and spur innovation. Mashery&#8217;s unique, holistic approach to API management encompasses working with clients to craft profitable platform strategies, ensuring fast, reliable API access, and facilitating relationships with our network of developers.</p>\\n\\n<p>Since Mashery was founded in 2006, we have built a global API delivery network that supports 60,000 active apps built by over 200,000 developers. In May 2013, we officially became a part of Intel Corporation. </p>', 'image': {'available_sizes': [[[150, 141], 'assets/images/resized/0000/2161/2161v3-max-150x150.jpg'], [[250, 235], 'assets/images/resized/0000/2161/2161v3-max-250x250.jpg'], [[450, 423], 'assets/images/resized/0000/2161/2161v3-max-450x450.jpg']], 'attribution': None}, 'products': [{'name': 'API Traffic Manager', 'permalink': 'api-traffic-manager'}, {'name': 'Mashery API Distribution Network', 'permalink': 'mashery-api-distribution-network'}, {'name': 'API Reporting & Analytics', 'permalink': 'api-reporting-analytics'}, {'name': 'API Partner Portal', 'permalink': 'api-partner-portal'}, {'name': 'Mashery I/O Docs', 'permalink': 'mashery-i-o-docs'}], 'relationships': [{'is_past': False, 'title': 'Co-Founder and VP, HR and Administration', 'person': {'first_name': 'Kirsten', 'last_name': 'Spoljaric', 'permalink': 'kirsten-spoljaric'}}, {'is_past': False, 'title': 'CEO and Co-Founder', 'person': {'first_name': 'Oren', 'last_name': 'Michels', 'permalink': 'oren-michels'}}, {'is_past': False, 'title': 'VP, Business Development', 'person': {'first_name': 'Tom', 'last_name': 'St. Onge', 'permalink': 'tom-st-onge'}}, {'is_past': False, 'title': 'VP, Strategy Services', 'person': {'first_name': 'Devon', 'last_name': 'Biondi', 'permalink': 'devon-biondi'}}, {'is_past': False, 'title': 'VP Developer Platform', 'person': {'first_name': 'Delyn', 'last_name': 'Simons', 'permalink': 'delyn-simons'}}, {'is_past': False, 'title': 'VP, Marketing', 'person': {'first_name': 'Julie', 'last_name': 'Gibbs', 'permalink': 'julie-gibbs'}}, {'is_past': False, 'title': 'Developer Community Manager', 'person': {'first_name': 'Sarah-Jane', 'last_name': 'Morris', 'permalink': 'sarah-jane-morris'}}, {'is_past': False, 'title': 'PR Director', 'person': {'first_name': 'David', 'last_name': 'Conner', 'permalink': 'david-conner'}}, {'is_past': False, 'title': '', 'person': {'first_name': 'Roque', 'last_name': 'Versace, VP, Sales', 'permalink': 'roque-versace-vp-sales'}}, {'is_past': False, 'title': 'VP, Engineering', 'person': {'first_name': 'John', 'last_name': 'Oberon', 'permalink': 'john-oberon'}}, {'is_past': False, 'title': 'Director of Marketing Communications & Brand', 'person': {'first_name': 'Samantha', 'last_name': 'Brown', 'permalink': 'samantha-brown-2'}}, {'is_past': False, 'title': 'Marketing Communications Specialist', 'person': {'first_name': 'Ashley', 'last_name': 'Waxman', 'permalink': 'ashley-waxman'}}, {'is_past': False, 'title': 'Director, Demand Generation', 'person': {'first_name': 'Michelle', 'last_name': 'Kim', 'permalink': 'michelle-kim'}}, {'is_past': False, 'title': 'Product Marketing Manager', 'person': {'first_name': 'Bonnie', 'last_name': 'Jeong', 'permalink': 'bonnie-jeong'}}, {'is_past': False, 'title': 'Director of Engineering, Web Apps Team', 'person': {'first_name': 'Jim', 'last_name': 'Ruga', 'permalink': 'jim-ruga'}}, {'is_past': False, 'title': 'Director, Platform Strategy', 'person': {'first_name': 'Chuck', 'last_name': 'Freedman', 'permalink': 'chuck-freedman'}}, {'is_past': False, 'title': 'Social Media & Content Manager', 'person': {'first_name': 'Sara', 'last_name': 'Reiner', 'permalink': 'sara-reiner'}}, {'is_past': False, 'title': 'VP, Product and Services', 'person': {'first_name': 'Chris', 'last_name': 'Lippi', 'permalink': 'chris-lippi'}}, {'is_past': False, 'title': 'VP, Customer Success', 'person': {'first_name': 'Boaz', 'last_name': 'Maor', 'permalink': 'boaz-maor'}}, {'is_past': False, 'title': 'General Counsel', 'person': {'first_name': 'Julia', 'last_name': 'Ledbetter', 'permalink': 'julia-ledbetter'}}, {'is_past': False, 'title': 'Senior Designer', 'person': {'first_name': 'Liz', 'last_name': 'Rudner', 'permalink': 'liz-rudner'}}, {'is_past': False, 'title': 'Web Developer', 'person': {'first_name': 'Rod', 'last_name': 'Reyes', 'permalink': 'rod-reyes'}}, {'is_past': False, 'title': 'Director of Integrated Marketing & Events', 'person': {'first_name': 'Kristina', 'last_name': 'Maugg', 'permalink': 'kristina-maugg'}}, {'is_past': False, 'title': 'Director, Human Resources', 'person': {'first_name': 'Jonathan', 'last_name': 'Akhavan', 'permalink': 'jonathan-akhavan'}}, {'is_past': False, 'title': 'Director of Engineering, Platform', 'person': {'first_name': 'Vivek', 'last_name': 'Chopra', 'permalink': 'vivek-chopra'}}, {'is_past': True, 'title': 'Co-Founder and Board Member', 'person': {'first_name': 'Scott', 'last_name': 'Rafer', 'permalink': 'scott-rafer'}}, {'is_past': True, 'title': 'Chief Architect, co-founder', 'person': {'first_name': 'Clay', 'last_name': 'Loveless', 'permalink': 'clay-loveless'}}, {'is_past': True, 'title': 'VP, Sales & Marketing', 'person': {'first_name': 'Laura', 'last_name': 'Merling', 'permalink': 'laura-merling'}}, {'is_past': True, 'title': 'VP', 'person': {'first_name': 'Drew', 'last_name': 'Bartkiewicz', 'permalink': 'drew-bartkiewicz'}}, {'is_past': True, 'title': 'Investor', 'person': {'first_name': 'Saul', 'last_name': 'Klein', 'permalink': 'saul-klein'}}, {'is_past': True, 'title': 'Investor', 'person': {'first_name': 'Roger', 'last_name': 'Ehrenberg', 'permalink': 'roger-ehrenberg'}}, {'is_past': True, 'title': 'Board Observer', 'person': {'first_name': 'Kent', 'last_name': 'Goldman', 'permalink': 'kent-goldman'}}, {'is_past': True, 'title': 'Investor and Member of the Board of Directors', 'person': {'first_name': 'Clint', 'last_name': 'Chao', 'permalink': 'clint-chao'}}, {'is_past': True, 'title': 'Board Observer', 'person': {'first_name': 'Josh', 'last_name': 'Kopelman', 'permalink': 'josh-kopelman'}}, {'is_past': True, 'title': 'Board', 'person': {'first_name': 'Scott', 'last_name': 'Maxwell', 'permalink': 'scott-maxwell'}}, {'is_past': True, 'title': 'Social Media and Marketing Programs Manager', 'person': {'first_name': 'Tiffany', 'last_name': 'Ho', 'permalink': 'tiffany-ho'}}, {'is_past': True, 'title': 'Board of Director Observer', 'person': {'first_name': 'Greg', 'last_name': 'Dracon', 'permalink': 'greg-dracon'}}], 'competitions': [{'competitor': {'name': '3scale', 'permalink': '3scale'}}, {'competitor': {'name': 'WebServius', 'permalink': 'webservius'}}, {'competitor': {'name': 'Apigee', 'permalink': 'apigee'}}, {'competitor': {'name': 'Mashape', 'permalink': 'mashape'}}, {'competitor': {'name': 'Layer 7 Technologies', 'permalink': 'layer-7-technologies'}}, {'competitor': {'name': 'Apiphany', 'permalink': 'apiphany'}}, {'competitor': {'name': 'StrikeIron', 'permalink': 'strikeiron'}}], 'providerships': [], 'total_money_raised': '$34.7M', 'funding_rounds': [{'id': 93, 'round_code': 'a', 'source_url': 'http://www.readwriteweb.com/archives/mashery_funding.php', 'source_description': '', 'raised_amount': 1200000, 'raised_currency_code': 'USD', 'funded_year': 2007, 'funded_month': 5, 'funded_day': 8, 'investments': [{'company': None, 'financial_org': {'name': 'First Round Capital', 'permalink': 'first-round-capital'}, 'person': None}, {'company': None, 'financial_org': {'name': 'Rose Tech Ventures', 'permalink': 'rose-tech-ventures'}, 'person': None}, {'company': None, 'financial_org': {'name': 'Felicis Ventures', 'permalink': 'felicis-ventures'}, 'person': None}]}, {'id': 927, 'round_code': 'b', 'source_url': 'http://www.thealarmclock.com/mt/archives/2007/09/mashery_flashes.html', 'source_description': '', 'raised_amount': 7000000, 'raised_currency_code': 'USD', 'funded_year': 2008, 'funded_month': 10, 'funded_day': 29, 'investments': [{'company': None, 'financial_org': {'name': 'First Round Capital', 'permalink': 'first-round-capital'}, 'person': None}, {'company': None, 'financial_org': {'name': 'Formative Ventures', 'permalink': 'formative-ventures'}, 'person': None}, {'company': None, 'financial_org': {'name': 'The Accelerator Group', 'permalink': 'the-accelerator-group'}, 'person': None}, {'company': None, 'financial_org': None, 'person': {'first_name': 'Dave', 'last_name': 'McClure', 'permalink': 'dave-mcclure'}}, {'company': None, 'financial_org': {'name': 'Rose Tech Ventures', 'permalink': 'rose-tech-ventures'}, 'person': None}, {'company': None, 'financial_org': {'name': '.406 Ventures', 'permalink': '406-ventures'}, 'person': None}, {'company': None, 'financial_org': None, 'person': {'first_name': 'Marc', 'last_name': 'Benioff', 'permalink': 'marc-benioff'}}, {'company': None, 'financial_org': {'name': 'Felicis Ventures', 'permalink': 'felicis-ventures'}, 'person': None}]}, {'id': 1804, 'round_code': 'angel', 'source_url': 'http://blog.lookery.com/blog/2007/11/03/early-angel-investors/', 'source_description': '', 'raised_amount': None, 'raised_currency_code': 'USD', 'funded_year': 2007, 'funded_month': 1, 'funded_day': 1, 'investments': [{'company': None, 'financial_org': None, 'person': {'first_name': 'Roger', 'last_name': 'Ehrenberg', 'permalink': 'roger-ehrenberg'}}, {'company': None, 'financial_org': None, 'person': {'first_name': 'Jeff', 'last_name': 'Stewart', 'permalink': 'jeff-stewart'}}, {'company': None, 'financial_org': None, 'person': {'first_name': 'Dave', 'last_name': 'McClure', 'permalink': 'dave-mcclure'}}, {'company': None, 'financial_org': {'name': 'SV Angel', 'permalink': 'sv-angel'}, 'person': None}, {'company': None, 'financial_org': None, 'person': {'first_name': 'Geoff', 'last_name': 'Judge', 'permalink': 'geoff-judge'}}, {'company': None, 'financial_org': None, 'person': {'first_name': 'Jeff', 'last_name': 'Clavier', 'permalink': 'jeff-clavier'}}]}, {'id': 12356, 'round_code': 'c', 'source_url': 'http://techcrunch.com/2010/02/24/mashery-funding/', 'source_description': '', 'raised_amount': 5500000, 'raised_currency_code': 'USD', 'funded_year': 2010, 'funded_month': 2, 'funded_day': 24, 'investments': [{'company': None, 'financial_org': {'name': 'Formative Ventures', 'permalink': 'formative-ventures'}, 'person': None}, {'company': None, 'financial_org': {'name': '.406 Ventures', 'permalink': '406-ventures'}, 'person': None}, {'company': None, 'financial_org': {'name': 'First Round Capital', 'permalink': 'first-round-capital'}, 'person': None}, {'company': {'name': 'Cisco', 'permalink': 'cisco'}, 'financial_org': None, 'person': None}]}, {'id': 22796, 'round_code': 'd', 'source_url': 'http://techcrunch.com/2011/05/04/mashery-funding-2/', 'source_description': '', 'raised_amount': 11000000, 'raised_currency_code': 'USD', 'funded_year': 2011, 'funded_month': 5, 'funded_day': 4, 'investments': [{'company': None, 'financial_org': {'name': 'OpenView Venture Partners', 'permalink': 'openview-venture-partners'}, 'person': None}, {'company': None, 'financial_org': {'name': 'First Round Capital', 'permalink': 'first-round-capital'}, 'person': None}, {'company': None, 'financial_org': {'name': 'Formative Ventures', 'permalink': 'formative-ventures'}, 'person': None}, {'company': {'name': 'Cisco', 'permalink': 'cisco'}, 'financial_org': None, 'person': None}]}, {'id': 31431, 'round_code': 'unattributed', 'source_url': 'http://techcrunch.com/2012/07/23/api-management-platform-mashery-closes-on-10-million-doubles-the-number-of-mashery-powered-apps/', 'source_description': 'API Management Platform Mashery Closes On $10 Million, Doubles The Number Of Mashery-Powered Apps', 'raised_amount': 10000000, 'raised_currency_code': 'USD', 'funded_year': 2012, 'funded_month': 7, 'funded_day': 23, 'investments': [{'company': None, 'financial_org': {'name': 'OpenView Venture Partners', 'permalink': 'openview-venture-partners'}, 'person': None}, {'company': None, 'financial_org': {'name': 'Formative Ventures', 'permalink': 'formative-ventures'}, 'person': None}, {'company': None, 'financial_org': {'name': 'First Round Capital', 'permalink': 'first-round-capital'}, 'person': None}, {'company': None, 'financial_org': {'name': '.406 Ventures', 'permalink': '406-ventures'}, 'person': None}, {'company': {'name': 'Cisco', 'permalink': 'cisco'}, 'financial_org': None, 'person': None}]}], 'investments': [], 'acquisition': {'price_amount': None, 'price_currency_code': 'USD', 'term_code': None, 'source_url': 'http://allthingsd.com/20130417/intel-acquires-api-manager-mashery/', 'source_description': 'Intel Acquires API Manager Mashery', 'acquired_year': 2013, 'acquired_month': 4, 'acquired_day': 17, 'acquiring_company': {'name': 'Intel', 'permalink': 'intel'}}, 'acquisitions': [], 'offices': [{'description': 'Headquarters', 'address1': '717 Market Street', 'address2': 'Suite 300', 'zip_code': '94103', 'city': 'San Francisco', 'state_code': 'CA', 'country_code': 'USA', 'latitude': 37.7870842, 'longitude': -122.4038047}, {'description': 'New York Office', 'address1': '594 Broadway, Suite 407', 'address2': '', 'zip_code': '10012', 'city': 'New York', 'state_code': 'NY', 'country_code': 'USA', 'latitude': None, 'longitude': None}, {'description': 'Boston Office', 'address1': '374 Congress St., SUITE 304', 'address2': '', 'zip_code': '02210', 'city': 'Boston', 'state_code': 'MA', 'country_code': 'USA', 'latitude': None, 'longitude': None}], 'milestones': [{'id': 8006, 'description': \"Mashery named in Lead411's Hottest San Francisco Companies list\", 'stoned_year': 2010, 'stoned_month': 5, 'stoned_day': 18, 'source_url': 'http://www.lead411.com/san-francisco-companies.html', 'source_text': None, 'source_description': 'Lead411 launches \"Hottest Companies in San Francisco\" awards', 'stoneable_type': 'Company', 'stoned_value': None, 'stoned_value_type': None, 'stoned_acquirer': None, 'stoneable': {'name': 'Mashery', 'permalink': 'mashery'}}], 'ipo': None, 'video_embeds': [{'embed_code': '<iframe width=\"430\" height=\"270\" src=\"http://www.youtube.com/embed/C7CNTdacR0c\" frameborder=\"0\" allowfullscreen></iframe>', 'description': ''}, {'embed_code': '<iframe src=\"http://blip.tv/play/goRrgrzTaQI.html\" width=\"430\" height=\"270\" frameborder=\"0\" allowfullscreen></iframe><embed type=\"application/x-shockwave-flash\" src=\"http://a.blip.tv/api.swf#goRrgrzTaQI\" style=\"display:none\"></embed>', 'description': ''}, {'embed_code': '<iframe src=\"http://player.vimeo.com/video/61330734\" width=\"430\" height=\"242\" frameborder=\"0\" webkitAllowFullScreen mozallowfullscreen allowFullScreen></iframe>', 'description': '<p>Mashery Product Overview [3:04] (Mar 2013)</p>'}], 'screenshots': [{'available_sizes': [[[150, 67], 'assets/images/resized/0014/8296/148296v2-max-150x150.png'], [[250, 113], 'assets/images/resized/0014/8296/148296v2-max-250x250.png'], [[450, 203], 'assets/images/resized/0014/8296/148296v2-max-450x450.png']], 'attribution': None}], 'external_links': [], 'partners': []}\n",
      "{'_id': ObjectId('52cdef7c4bab8bd675297dc7'), 'name': 'delicious', 'permalink': 'delicious', 'crunchbase_url': 'http://www.crunchbase.com/company/delicious', 'homepage_url': 'http://delicious.com', 'blog_url': 'http://blog.delicious.com/', 'blog_feed_url': 'http://blog.delicious.com/blog/feed', 'twitter_username': 'Delicious', 'category_code': 'web', 'number_of_employees': None, 'founded_year': 2003, 'founded_month': 9, 'founded_day': None, 'deadpooled_year': None, 'deadpooled_month': None, 'deadpooled_day': None, 'deadpooled_url': None, 'tag_list': 'taxna', 'alias_list': 'de.licio.us', 'email_address': 'contact@avos.com', 'phone_number': '18873654526', 'description': 'Social Bookmarking', 'created_at': 'Tue Jun 26 10:03:51 UTC 2007', 'updated_at': 'Mon Oct 07 17:17:01 UTC 2013', 'overview': '<p>Delicious is a social bookmarking website &#8211; the primary use of Delicious is to store your bookmarks online, which allows you to access the same bookmarks from any computer and add bookmarks from anywhere, too. On Delicious, you can use tags to organize and remember your bookmarks, which is a much more flexible system than folders.</p>\\n\\n<p>You can also use del.icio.us to see the interesting links that your friends and other people bookmark, and share links with them in return. You can even browse and search Delicious to discover the cool and useful bookmarks that everyone else has saved &#8211; which is made easy with tags.</p>\\n\\n<p>Delicious was acquired by Yahoo on December 9, 2005. No formal acquisition price was disclosed, though it has been speculated at $10 to $15 million. Early seed round investors include Marc Andreessen, Tim O&#8217;Reilly, Esther Dyson, Josh Kopelman, Bob Young, Seth Goldstein and Howard Morgan.</p>\\n\\n<p>In <a href=\"http://www.techcrunch.com/2007/09/06/exclusive-screen-shots-and-feature-overview-of-delicious-20-preview/\" title=\"September 2007\">September 2007</a> Delicious showed an upcoming version 2 to the public, along with the announcement of a complete re-write of the code base.</p>\\n\\n<p>In April 2011, Delicious was acquired by Chad Hurley and Steve Chen&#8217;s <a href=\"/company/avos\" title=\"AVOS Systems\" rel=\"nofollow\">AVOS Systems</a>. Since the acquisition, Delicious has <a href=\"http://techcrunch.com/2012/11/06/delicious-announces-a-new-design-with-a-focus-on-community-speed-and-mobile/\" title=\"undergone several redesigns\">undergone several redesigns</a>.</p>', 'image': {'available_sizes': [[[150, 41], 'assets/images/resized/0000/0499/499v2-max-150x150.jpg'], [[247, 68], 'assets/images/resized/0000/0499/499v2-max-250x250.jpg'], [[247, 68], 'assets/images/resized/0000/0499/499v2-max-450x450.jpg']], 'attribution': None}, 'products': [{'name': 'del.icio.us', 'permalink': 'del-icio-us'}], 'relationships': [{'is_past': False, 'title': 'Investor', 'person': {'first_name': 'Thomas', 'last_name': 'Gieselmann', 'permalink': 'thomas-gieselmann'}}, {'is_past': True, 'title': 'Founder', 'person': {'first_name': 'Joshua', 'last_name': 'Schachter', 'permalink': 'joshua-schachter'}}, {'is_past': True, 'title': 'Lead Engineer', 'person': {'first_name': 'Josh', 'last_name': 'Whiting', 'permalink': 'josh-whiting'}}, {'is_past': True, 'title': 'Developer', 'person': {'first_name': 'Dan', 'last_name': 'Kantor', 'permalink': 'dan-kantor'}}, {'is_past': True, 'title': 'Product team lead', 'person': {'first_name': 'Stephen', 'last_name': 'Hood', 'permalink': 'stephen-hood'}}, {'is_past': True, 'title': '', 'person': {'first_name': 'Nick', 'last_name': 'Nguyen', 'permalink': 'nick-nguyen'}}], 'competitions': [{'competitor': {'name': 'Faves', 'permalink': 'faves'}}, {'competitor': {'name': 'ZapNat', 'permalink': 'zapnat'}}, {'competitor': {'name': 'Diigo', 'permalink': 'diigo'}}, {'competitor': {'name': 'Zigtag', 'permalink': 'zigtag'}}, {'competitor': {'name': 'Skewz', 'permalink': 'skewz'}}, {'competitor': {'name': 'Xerpi', 'permalink': 'xerpi'}}, {'competitor': {'name': 'DeliciousSafari', 'permalink': 'delicioussafari'}}, {'competitor': {'name': 'link-together', 'permalink': 'link-together'}}, {'competitor': {'name': 'Antstorm', 'permalink': 'antstorm'}}, {'competitor': {'name': 'ma.gnolia', 'permalink': 'magnolia'}}, {'competitor': {'name': 'Pinboard', 'permalink': 'pinboard'}}, {'competitor': {'name': 'Clipboard', 'permalink': 'clipboard'}}, {'competitor': {'name': 'Kippt', 'permalink': 'kippt'}}], 'providerships': [], 'total_money_raised': '$0', 'funding_rounds': [{'id': 53, 'round_code': 'seed', 'source_url': 'http://www.techcrunch.com/?p=23', 'source_description': 'Profile: Del.icio.us', 'raised_amount': None, 'raised_currency_code': None, 'funded_year': 2005, 'funded_month': 4, 'funded_day': 1, 'investments': [{'company': {'name': 'Amazon', 'permalink': 'amazon'}, 'financial_org': None, 'person': None}, {'company': None, 'financial_org': {'name': 'e.ventures', 'permalink': 'e-ventures'}, 'person': None}, {'company': None, 'financial_org': {'name': 'Union Square Ventures', 'permalink': 'union-square-ventures'}, 'person': None}, {'company': None, 'financial_org': None, 'person': {'first_name': 'Josh', 'last_name': 'Kopelman', 'permalink': 'josh-kopelman'}}]}], 'investments': [], 'acquisition': {'price_amount': None, 'price_currency_code': 'USD', 'term_code': None, 'source_url': 'http://techcrunch.com/2011/04/27/yahoo-sells-delicious-to-youtube-founders/', 'source_description': 'Yahoo Sells Delicious To YouTube Founders', 'acquired_year': 2011, 'acquired_month': 4, 'acquired_day': 27, 'acquiring_company': {'name': 'AVOS Systems', 'permalink': 'avos'}}, 'acquisitions': [], 'offices': [{'description': '', 'address1': '', 'address2': '', 'zip_code': '', 'city': 'San Mateo', 'state_code': 'CA', 'country_code': 'USA', 'latitude': None, 'longitude': None}], 'milestones': [{'id': 13, 'description': 'Joshua Schachter resigns from the company he started.', 'stoned_year': 2008, 'stoned_month': 6, 'stoned_day': 19, 'source_url': 'http://www.techcrunch.com/2008/06/19/it-gets-worse-for-yahoo-delicious-founder-leaving/', 'source_text': None, 'source_description': 'It Gets Worse: Joshua Schachter Leaving Yahoo', 'stoneable_type': 'Company', 'stoned_value': None, 'stoned_value_type': None, 'stoned_acquirer': None, 'stoneable': {'name': 'delicious', 'permalink': 'delicious'}}, {'id': 320, 'description': 'Delicious 2.0 enters private beta', 'stoned_year': 2007, 'stoned_month': 9, 'stoned_day': 6, 'source_url': 'http://www.techcrunch.com/2007/09/06/exclusive-screen-shots-and-feature-overview-of-delicious-20-preview/', 'source_text': '', 'source_description': '', 'stoneable_type': 'Company', 'stoned_value': None, 'stoned_value_type': None, 'stoned_acquirer': None, 'stoneable': {'name': 'delicious', 'permalink': 'delicious'}}, {'id': 346, 'description': 'Delicious 2.0 launches', 'stoned_year': 2008, 'stoned_month': 7, 'stoned_day': 31, 'source_url': 'http://www.techcrunch.com/2008/07/31/delicious-20-launches-really-it-totally-launched/', 'source_text': '', 'source_description': 'Delicious 2.0 Launches. Really. It Totally Launched.', 'stoneable_type': 'Company', 'stoned_value': None, 'stoned_value_type': None, 'stoned_acquirer': None, 'stoneable': {'name': 'delicious', 'permalink': 'delicious'}}, {'id': 14503, 'description': 'Delicious acquired by AVOS', 'stoned_year': 2011, 'stoned_month': 4, 'stoned_day': 27, 'source_url': 'http://techcrunch.com/2011/04/27/yahoo-sells-delicious-to-youtube-founders/', 'source_text': None, 'source_description': 'Yahoo Sells Delicious To YouTube Founders', 'stoneable_type': 'Company', 'stoned_value': None, 'stoned_value_type': None, 'stoned_acquirer': None, 'stoneable': {'name': 'delicious', 'permalink': 'delicious'}}, {'id': 18122, 'description': 'Delicious 3.0 launches', 'stoned_year': 2011, 'stoned_month': 9, 'stoned_day': 27, 'source_url': 'http://www.whatissixsigma.net/delicious-3-0-the-end-of-del-icio-us/', 'source_text': None, 'source_description': 'Delicious 3.0 â€“ The End of Del.icio.us', 'stoneable_type': 'Company', 'stoned_value': None, 'stoned_value_type': None, 'stoned_acquirer': None, 'stoneable': {'name': 'delicious', 'permalink': 'delicious'}}], 'ipo': None, 'video_embeds': [{'embed_code': '<iframe width=\"430\" height=\"242\" src=\"https://mixbit.com/embed/1PL6BoXRY54D5vtCfVnRwz\" frameborder=\"0\" webkitallowfullscreen mozallowfullscreen allowfullscreen></iframe>', 'description': ''}], 'screenshots': [{'available_sizes': [[[150, 111], 'assets/images/resized/0015/5793/155793v2-max-150x150.png'], [[250, 186], 'assets/images/resized/0015/5793/155793v2-max-250x250.png'], [[450, 335], 'assets/images/resized/0015/5793/155793v2-max-450x450.png']], 'attribution': None}], 'external_links': [{'external_url': 'http://www.whatissixsigma.net/delicious-3-0-the-end-of-del-icio-us/', 'title': ''}], 'partners': []}\n",
      "{'_id': ObjectId('52cdef7c4bab8bd675297dbf'), 'name': 'blogTV', 'permalink': 'blogtv', 'crunchbase_url': 'http://www.crunchbase.com/company/blogtv', 'homepage_url': 'http://www.blogtv.com', 'blog_url': 'http://blog.blogtv.com/', 'blog_feed_url': 'http://blog.blogtv.com/index.rdf', 'twitter_username': 'blogTV', 'category_code': 'games_video', 'number_of_employees': None, 'founded_year': 2006, 'founded_month': 5, 'founded_day': 1, 'deadpooled_year': None, 'deadpooled_month': None, 'deadpooled_day': None, 'deadpooled_url': None, 'tag_list': 'blogtv, broadcast, chat, live', 'alias_list': '', 'email_address': 'info@blogtv.com', 'phone_number': '', 'description': '', 'created_at': 'Sat Jun 23 05:25:53 UTC 2007', 'updated_at': 'Mon Mar 18 10:23:28 UTC 2013', 'overview': '<p>&#8220;Hello, blogTV is here! This is the place where you can show off your talent, build a fan base and share your opinions LIVE! You bring the webcam, we bring the stage. We&#8217;re here to help you get your 15 minutes of fame. </p>\\n\\n<p>Broadcast your own live shows, just plug in your webcam and Start Broadcasting\\nRecord and archive your shows,press record at any time during your show and it will automatically be stored in your show page.\\nChat with your viewers, it is the perfect way to get live feedback during your shows. \\nCo-host live shows, split a show with a friend or invite an audience member to co-host with you.\\nShare you shows,send shows to friends, post shows to blogs, send email alerts and RSS feeds.\\nManage your shows, organize your shows once they are recorded. You can change your show title, write a description, insert a logo/picture and add tags so everyone can find you.\\nWatch live shows, discover something new.\\nblogTV was announced Winner of the 2006 GMCA awards and the 3GSM best made for mobile award for its mobile to web broadcasting and the watching blogTV on mobile phone features.&#8221;</p>', 'image': {'available_sizes': [[[150, 61], 'assets/images/resized/0000/0280/280v2-max-150x150.png'], [[202, 83], 'assets/images/resized/0000/0280/280v2-max-250x250.png'], [[202, 83], 'assets/images/resized/0000/0280/280v2-max-450x450.png']], 'attribution': None}, 'products': [{'name': 'blogTV', 'permalink': 'blogtv'}], 'relationships': [{'is_past': False, 'title': '', 'person': {'first_name': 'Guy', 'last_name': 'Eliav', 'permalink': 'guy-eliav'}}, {'is_past': True, 'title': 'CEO', 'person': {'first_name': 'Oren', 'last_name': 'Levy', 'permalink': 'oren-levy'}}, {'is_past': True, 'title': 'CEO', 'person': {'first_name': 'Guy', 'last_name': 'Eliav', 'permalink': 'guy-eliav'}}, {'is_past': True, 'title': 'Senior VP Product and Content', 'person': {'first_name': 'Nir', 'last_name': 'Ofir', 'permalink': 'nir-ofir'}}, {'is_past': True, 'title': 'VP Sales', 'person': {'first_name': 'Scott', 'last_name': 'Waxenberg', 'permalink': 'scott-waxenberg'}}], 'competitions': [{'competitor': {'name': 'Ustream', 'permalink': 'ustream'}}, {'competitor': {'name': 'Justin.TV', 'permalink': 'justintv'}}, {'competitor': {'name': 'Stickam', 'permalink': 'stickam'}}, {'competitor': {'name': 'Justin.TV', 'permalink': 'justintv'}}, {'competitor': {'name': 'Vokle', 'permalink': 'vokle'}}, {'competitor': {'name': 'Streamup', 'permalink': 'streamup'}}], 'providerships': [], 'total_money_raised': '$3M', 'funding_rounds': [{'id': 49, 'round_code': 'seed', 'source_url': None, 'source_description': None, 'raised_amount': 3000000, 'raised_currency_code': 'USD', 'funded_year': 2007, 'funded_month': 1, 'funded_day': 1, 'investments': [{'company': None, 'financial_org': {'name': 'Tapuz', 'permalink': 'tapuz'}, 'person': None}]}], 'investments': [], 'acquisition': {'price_amount': None, 'price_currency_code': 'USD', 'term_code': None, 'source_url': 'http://techcrunch.com/2013/03/13/younow-buys-blogtv/', 'source_description': 'Live Social Video Network YouNow Acquires Streaming Service BlogTV', 'acquired_year': 2013, 'acquired_month': 3, 'acquired_day': 13, 'acquiring_company': {'name': 'YouNow', 'permalink': 'younow'}}, 'acquisitions': [], 'offices': [{'description': 'Headquarters', 'address1': '30 Ben Gurion St.', 'address2': '', 'zip_code': '52573', 'city': 'Ramat Gan', 'state_code': None, 'country_code': 'ISR', 'latitude': 31.046051, 'longitude': 34.851612}], 'milestones': [], 'ipo': None, 'video_embeds': [{'embed_code': 'blogTV <div style=\"width:320px;\"><div style=\"background-color:#dedede;width:320px;text-align:center;font-family:Arial,sans-serif;font-size:10pt;padding-top:4px;padding-bottom:5px;margin:0;\"><a href=\"http://www.vator.tv/news/show/2012-01-01-blogtv-interview-9-9-08\" target=\"_blank\">See this video on <span style=\"color:#38538e;font-weight: bold;\">Vator</span><span style=\"color:#50a756;font-weight: bold;\">.tv</span>&nbsp;&raquo;</a></div><embed src=\"http://www.vator.tv/embed/vpembed.swf\" FlashVars=\"v=4470_BlogTV-Vator-9-9-08.flv&b=2&i=4470&o=embed&vp=1&l=http://www.vator.tv/news/show/2012-01-01-blogtv-interview-9-9-08\" allowScriptAccess=\"always\" allowFullScreen=\"true\" bgcolor=\"#ffffff\" width=\"320\" height=\"265\" pluginspage=\"http://www.macromedia.com/go/getflashplayer\" type=\"application/x-shockwave-flash\"></embed></div>', 'description': '<p>BlogTV Interview on VatorTV</p>'}], 'screenshots': [], 'external_links': [], 'partners': []}\n",
      "{'_id': ObjectId('52cdef7c4bab8bd675297dab'), 'name': 'Kyte', 'permalink': 'kyte', 'crunchbase_url': 'http://www.crunchbase.com/company/kyte', 'homepage_url': 'http://www.kyte.com', 'blog_url': 'http://kyte.com/blog', 'blog_feed_url': 'http://feeds.feedburner.com/kyte_blog', 'twitter_username': 'kyte', 'category_code': 'games_video', 'number_of_employees': 40, 'founded_year': 2006, 'founded_month': 12, 'founded_day': 1, 'deadpooled_year': None, 'deadpooled_month': None, 'deadpooled_day': None, 'deadpooled_url': None, 'tag_list': 'video, mobile, iphone-app, video-platform, mobile-app, media, interactive', 'alias_list': '', 'email_address': 'info@kyte.com', 'phone_number': '', 'description': 'Online & Mobile Video Platform', 'created_at': 'Thu Jun 14 18:26:11 UTC 2007', 'updated_at': 'Mon Oct 28 09:34:37 UTC 2013', 'overview': '<p>Kyte is the online and mobile video platform for media and entertainment. The Kyte Platform combines the real-time, interactive and community building capabilities of the social web with the analytics, control, and monetization features of professional video platforms, enabling companies to converge online and mobile audiences, build community, and monetize.</p>', 'image': {'available_sizes': [[[116, 70], 'assets/images/resized/0000/4300/4300v2-max-150x150.png'], [[116, 70], 'assets/images/resized/0000/4300/4300v2-max-250x250.png'], [[116, 70], 'assets/images/resized/0000/4300/4300v2-max-450x450.png']], 'attribution': None}, 'products': [{'name': 'Kyte', 'permalink': 'kyte'}, {'name': 'Kyte Mobile Producer', 'permalink': 'kyte-mobile-producer'}], 'relationships': [{'is_past': False, 'title': 'CTO and co-founder', 'person': {'first_name': 'Erik', 'last_name': 'Abair', 'permalink': 'erik-abaic'}}, {'is_past': True, 'title': 'CEO and co-founder', 'person': {'first_name': 'Daniel', 'last_name': 'Graf', 'permalink': 'daniel-graf'}}, {'is_past': True, 'title': 'Chief Revenue Officer', 'person': {'first_name': 'Dan', 'last_name': 'FitzSimons', 'permalink': 'dan-fitzsimons'}}, {'is_past': True, 'title': 'Chief Product Officer', 'person': {'first_name': 'Barnaby', 'last_name': 'Dorfman', 'permalink': 'barnaby-dorfman'}}, {'is_past': True, 'title': 'Chief Operating Officer', 'person': {'first_name': 'Gannon', 'last_name': 'Hall', 'permalink': 'gannon-hall'}}, {'is_past': True, 'title': 'Managing Director Europe', 'person': {'first_name': 'Peter', 'last_name': 'Schuepbach', 'permalink': 'peter-schuepbach'}}, {'is_past': True, 'title': 'Observer', 'person': {'first_name': 'Joel', 'last_name': 'Yarmon', 'permalink': 'joel-yarmon'}}, {'is_past': True, 'title': 'Business Development Manager', 'person': {'first_name': 'Iris', 'last_name': 'Pittl', 'permalink': 'iris-pittl'}}, {'is_past': True, 'title': 'Marketing Director', 'person': {'first_name': 'Marisol', 'last_name': 'Segal', 'permalink': 'marisol-segal'}}, {'is_past': True, 'title': 'Advisor', 'person': {'first_name': 'Chad', 'last_name': 'Richard', 'permalink': 'chad-richard'}}, {'is_past': True, 'title': 'Director of User Experience', 'person': {'first_name': 'Shawn', 'last_name': 'Smith', 'permalink': 'shawn-smith-3'}}], 'competitions': [{'competitor': {'name': 'Ustream', 'permalink': 'ustream'}}, {'competitor': {'name': 'Qik', 'permalink': 'qik'}}, {'competitor': {'name': 'Flixwagon', 'permalink': 'flixwagon'}}, {'competitor': {'name': 'Brightcove', 'permalink': 'brightcove'}}, {'competitor': {'name': 'Magnify', 'permalink': 'magnify'}}, {'competitor': {'name': 'Kaltura', 'permalink': 'kaltura'}}, {'competitor': {'name': 'Ooyala', 'permalink': 'ooyala'}}, {'competitor': {'name': 'Livestream', 'permalink': 'livestream'}}, {'competitor': {'name': 'VMIX Media', 'permalink': 'vmixmedia'}}, {'competitor': {'name': 'Bambuser', 'permalink': 'bambuser'}}], 'providerships': [], 'total_money_raised': '$23.4M', 'funding_rounds': [{'id': 32, 'round_code': 'a', 'source_url': 'http://www.kyte.tv/press/release/20070423.html', 'source_description': 'kyte.tv takes self expression to the next level', 'raised_amount': 2250000, 'raised_currency_code': 'USD', 'funded_year': 2007, 'funded_month': 7, 'funded_day': 1, 'investments': [{'company': None, 'financial_org': {'name': 'Atomico', 'permalink': 'atomico'}, 'person': None}, {'company': None, 'financial_org': {'name': 'Draper Fisher Jurvetson (DFJ)', 'permalink': 'draper-fisher-jurvetson'}, 'person': None}, {'company': None, 'financial_org': None, 'person': {'first_name': 'Ron', 'last_name': 'Conway', 'permalink': 'ron-conway'}}, {'company': None, 'financial_org': {'name': 'Draper Richards', 'permalink': 'draper-richards'}, 'person': None}]}, {'id': 480, 'round_code': 'b', 'source_url': 'http://scobleizer.com/2007/12/19/kytetv-announces-funding-new-features/', 'source_description': 'Kyte announces funding, new features', 'raised_amount': 15000000, 'raised_currency_code': 'USD', 'funded_year': 2007, 'funded_month': 12, 'funded_day': 1, 'investments': [{'company': {'name': 'Nokia', 'permalink': 'nokia'}, 'financial_org': None, 'person': None}, {'company': None, 'financial_org': {'name': 'Draper Fisher Jurvetson (DFJ)', 'permalink': 'draper-fisher-jurvetson'}, 'person': None}, {'company': None, 'financial_org': {'name': 'DoCoMo Capital', 'permalink': 'docomo-capital'}, 'person': None}, {'company': None, 'financial_org': {'name': 'Swisscom Ventures', 'permalink': 'swisscom-ventures'}, 'person': None}, {'company': None, 'financial_org': {'name': 'Telefonica Ventures', 'permalink': 'telefonica-ventures'}, 'person': None}]}, {'id': 1697, 'round_code': 'b', 'source_url': 'http://www.kyte.com/newsroom/pg/kyte_completes_211_million_of_series_b_funding_with_investments_from_steamb', 'source_description': 'Kyte press release', 'raised_amount': 6100000, 'raised_currency_code': 'USD', 'funded_year': 2008, 'funded_month': 3, 'funded_day': 10, 'investments': [{'company': None, 'financial_org': {'name': 'Steamboat Ventures', 'permalink': 'steamboat-ventures'}, 'person': None}, {'company': {'name': 'Teliasonera', 'permalink': 'teliasonera'}, 'financial_org': None, 'person': None}]}, {'id': 52969, 'round_code': 'seed', 'source_url': '', 'source_description': 'y combinator source', 'raised_amount': None, 'raised_currency_code': 'USD', 'funded_year': 2012, 'funded_month': 3, 'funded_day': None, 'investments': [{'company': {'name': 'Y Combinator', 'permalink': 'y-combinator'}, 'financial_org': None, 'person': None}]}], 'investments': [], 'acquisition': {'price_amount': None, 'price_currency_code': 'USD', 'term_code': None, 'source_url': 'http://techcrunch.com/2011/01/31/exclusive-kit-digital-acquires-kickapps-kewego-and-kyte-for-77-2-million/', 'source_description': 'KIT digital Acquires KickApps, Kewego AND Kyte For $77.2 Million', 'acquired_year': 2011, 'acquired_month': 1, 'acquired_day': 31, 'acquiring_company': {'name': 'KIT digital', 'permalink': 'kit-digital'}}, 'acquisitions': [], 'offices': [{'description': None, 'address1': '442 Post Street', 'address2': '10th Floor', 'zip_code': '94102', 'city': 'San Francisco', 'state_code': 'CA', 'country_code': 'USA', 'latitude': 37.788482, 'longitude': -122.409173}], 'milestones': [], 'ipo': None, 'video_embeds': [{'embed_code': '<embed src=\"http://blip.tv/play/hRbDmAEA\" type=\"application/x-shockwave-flash\" width=\"370\" height=\"308\" allowscriptaccess=\"always\" allowfullscreen=\"true\"></embed>', 'description': '<p>This video was originally published on <a href=\"http://www.beet.tv/2008/07/kyte-powers-huf.html\" title=\"Beet.TV\" rel=\"nofollow\">Beet.TV</a></p>'}, {'embed_code': '<embed src=\"http://blip.tv/play/goRr3K8pAA%2Em4v\" type=\"application/x-shockwave-flash\" width=\"370\" height=\"240\" allowscriptaccess=\"always\" allowfullscreen=\"true\"></embed>', 'description': '<p>This video was originally published on <a href=\"http://www.beet.tv/2008/11/kyte-has-ad-ser.html\" title=\"Beet.TV\" rel=\"nofollow\">Beet.TV</a></p>'}, {'embed_code': '<div style=\"width:320px;\"><div style=\"background-color:#dedede;width:320px;text-align:center;font-family:Arial,sans-serif;font-size:10pt;padding-top:4px;padding-bottom:5px;margin:0;\"><a href=\"http://vator.tv/news/show/2008-08-29-vator-box-kyte-and-adinfuse\" target=\"_blank\">See this video on <span style=\"color:#38538e;font-weight: bold;\">Vator</span><span style=\"color:#50a756;font-weight: bold;\">.tv</span>&nbsp;&raquo;</a></div><embed src=\"http://vator.tv/embed/vpembed.swf\" FlashVars=\"v=4188_vator_box_01.flv&b=2&i=4188&o=embed&vp=1&l=http://vator.tv/news/show/2008-08-29-vator-box-kyte-and-adinfuse\" allowScriptAccess=\"always\" allowFullScreen=\"true\" bgcolor=\"#ffffff\" width=\"320\" height=\"265\" pluginspage=\"http://www.macromedia.com/go/getflashplayer\" type=\"application/x-shockwave-flash\"></embed></div>', 'description': '<p>VatorTV: 8/2008</p>'}, {'embed_code': '<embed src=\"http://blip.tv/play/goRrgaf1FQI%2Em4v\" type=\"application/x-shockwave-flash\" width=\"370\" height=\"240\" allowscriptaccess=\"always\" allowfullscreen=\"true\"></embed> ', 'description': '<p>This video was originally published on <a href=\"http://www.beet.tv/2009/10/kyte-has-evolved-into-online-and-ombiel-combine-real-time-cpaailities-of-social-web-with-conorla-nd-profesisonal-of-an-onlin.html\" title=\"Beet.TV\" rel=\"nofollow\">Beet.TV</a></p>'}, {'embed_code': '<embed src=\"http://blip.tv/play/goRrgc6aYQI%2Em4v\" type=\"application/x-shockwave-flash\" width=\"370\" height=\"240\" allowscriptaccess=\"always\" allowfullscreen=\"true\"></embed>', 'description': '<p>This video was originally posted on <a href=\"http://www.beet.tv/2010/03/kyte-announces-html5-player-and-readies-sdk-for-iphoneipad.html\" title=\"Beet.TV\" rel=\"nofollow\">Beet.TV</a></p>'}, {'embed_code': '<embed src=\"http://blip.tv/play/goRrgdX6OwI%2Em4v\" type=\"application/x-shockwave-flash\" width=\"370\" height=\"240\" allowscriptaccess=\"always\" allowfullscreen=\"true\"></embed>', 'description': '<p>This video was originally posted on <a href=\"http://www.beet.tv/2010/04/kyte-has-full-video-ad-monetization-workaround-for-ipad.html\" title=\"Beet.TV\" rel=\"nofollow\">Beet.TV</a></p>'}, {'embed_code': '<embed src=\"http://blip.tv/play/goRrgd6QUAI%2Em4v\" type=\"application/x-shockwave-flash\" width=\"370\" height=\"240\" allowscriptaccess=\"always\" allowfullscreen=\"true\"></embed>', 'description': '<p>This video was originally posted on <a href=\"http://www.beet.tv/2010/05/kyte-integrates-with-most-ad-networks-for-ipod-video-ad-insertion.html\" title=\"Beet.TV\" rel=\"nofollow\">Beet.TV</a> </p>'}], 'screenshots': [], 'external_links': [], 'partners': []}\n"
     ]
    }
   ],
   "source": [
    "after_2010 = colec.find(\n",
    "    {\"acquisition.acquired_year\": {\"$gt\": 2010}}\n",
    ").sort(\"acquisition.price_amount\", 1).limit(5)\n",
    "\n",
    "for doc in after_2010:\n",
    "    print(doc)\n"
   ]
  },
  {
   "cell_type": "markdown",
   "id": "3d52d385",
   "metadata": {},
   "source": [
    "### 14. Order the companies by their `founded year`, retrieving only their `name` and `founded year`.\n"
   ]
  },
  {
   "cell_type": "code",
   "execution_count": 25,
   "id": "188ef781",
   "metadata": {},
   "outputs": [
    {
     "name": "stdout",
     "output_type": "stream",
     "text": [
      "Company: Info, Founded Year: None\n",
      "Company: Lala, Founded Year: None\n",
      "Company: NetRatings, Founded Year: None\n",
      "Company: JotSpot, Founded Year: None\n",
      "Company: Flektor, Founded Year: None\n",
      "Company: Tun3r, Founded Year: None\n",
      "Company: There, Founded Year: None\n",
      "Company: SpinVox, Founded Year: None\n",
      "Company: Mercora, Founded Year: None\n",
      "Company: Gannett, Founded Year: None\n"
     ]
    }
   ],
   "source": [
    "ordered_companies = colec.find(\n",
    "{},\n",
    "\n",
    "    {\"name\": 1, \"founded_year\": 1, \"_id\": 0}\n",
    ").sort(\"founded_year\", 1).limit(10)\n",
    "\n",
    "for doc in ordered_companies:\n",
    "    print(f\"Company: {doc['name']}, Founded Year: {doc['founded_year']}\")\n"
   ]
  },
  {
   "cell_type": "code",
   "execution_count": 26,
   "id": "d40d6ca3",
   "metadata": {},
   "outputs": [
    {
     "ename": "SyntaxError",
     "evalue": "invalid syntax (1964423144.py, line 1)",
     "output_type": "error",
     "traceback": [
      "\u001b[0;36m  Cell \u001b[0;32mIn[26], line 1\u001b[0;36m\u001b[0m\n\u001b[0;31m    ordered_companies = colec.find().sort(\"founded_year\":, 1)\u001b[0m\n\u001b[0m                                                        ^\u001b[0m\n\u001b[0;31mSyntaxError\u001b[0m\u001b[0;31m:\u001b[0m invalid syntax\n"
     ]
    }
   ],
   "source": [
    "ordered_companies = colec.find().sort(\"founded_year\":, 1)\n",
    "\n",
    "for doc in ordered_companies:\n",
    "    print(f\"Company: {doc['name']}, Founded Year: {doc['founded_year']}\")\n",
    "\n",
    "    "
   ]
  },
  {
   "cell_type": "code",
   "execution_count": 27,
   "id": "023ff6f1",
   "metadata": {
    "scrolled": true
   },
   "outputs": [
    {
     "name": "stdout",
     "output_type": "stream",
     "text": [
      "Company: Wetpaint, Foundation Year: 2005\n",
      "Company: Zoho, Foundation Year: 2005\n",
      "Company: Digg, Foundation Year: 2004\n",
      "Company: Facebook, Foundation Year: 2004\n",
      "Company: Omnidrive, Foundation Year: 2005\n",
      "Company: StumbleUpon, Foundation Year: 2002\n",
      "Company: Gizmoz, Foundation Year: 2003\n",
      "Company: Helio, Foundation Year: 2005\n",
      "Company: Plaxo, Foundation Year: 2002\n",
      "Company: Technorati, Foundation Year: 2002\n",
      "Company: AddThis, Foundation Year: 2004\n",
      "Company: Veoh, Foundation Year: 2004\n",
      "Company: Jingle Networks, Foundation Year: 2005\n",
      "Company: Meetup, Foundation Year: 2002\n",
      "Company: LifeLock, Foundation Year: 2005\n",
      "Company: Wesabe, Foundation Year: 2005\n",
      "Company: Jangl SMS, Foundation Year: 2005\n",
      "Company: SmugMug, Foundation Year: 2002\n",
      "Company: Jajah, Foundation Year: 2005\n",
      "Company: Skype, Foundation Year: 2003\n"
     ]
    }
   ],
   "source": [
    "com_fund = colec.find(\n",
    "    {\"founded_year\": {\"$gte\": 2000, \"$lte\": 2005}},\n",
    "    {\"name\": 1, \"founded_year\": 1, \"_id\": 0}\n",
    ").limit(20)\n",
    "\n",
    "for doc in com_fund:\n",
    "    print(f\"Company: {doc['name']}, Foundation Year: {doc['founded_year']}\")\n"
   ]
  },
  {
   "cell_type": "code",
   "execution_count": 28,
   "id": "9460524e",
   "metadata": {},
   "outputs": [
    {
     "data": {
      "text/plain": [
       "<pymongo.cursor.Cursor at 0x110680850>"
      ]
     },
     "execution_count": 28,
     "metadata": {},
     "output_type": "execute_result"
    }
   ],
   "source": [
    "com_fund=colec.find({'founded_year': {'$ne': 'null'}},\n",
    "               {'founded_year':1, 'Company':1,}).sort('founded_year', -1)\n",
    "\n",
    "com_fund"
   ]
  },
  {
   "cell_type": "code",
   "execution_count": 29,
   "id": "3ef2be4e",
   "metadata": {},
   "outputs": [
    {
     "name": "stdout",
     "output_type": "stream",
     "text": [
      "Company: Alstrasoft, Foundation Year: 1800\n",
      "Company: SmallWorlds, Foundation Year: 1800\n",
      "Company: US Army, Foundation Year: 1800\n",
      "Company: DuPont, Foundation Year: 1802\n",
      "Company: Bachmann Industries, Foundation Year: 1833\n"
     ]
    }
   ],
   "source": [
    "#Este es el bueno!! para cuando lo pase a limpio.\n",
    "\n",
    "com_fund = colec.find(\n",
    "    {'founded_year': {'$ne': None}},\n",
    "    {'founded_year': 1, 'name': 1, '_id': 0}\n",
    ").sort('founded_year', 1).limit(5)\n",
    "                                \n",
    "\n",
    "\n",
    "for doc in com_fund:\n",
    "    print(f\"Company: {doc['name']}, Foundation Year: {doc['founded_year']}\")"
   ]
  },
  {
   "cell_type": "markdown",
   "id": "6abda3bb",
   "metadata": {},
   "source": [
    "### 15. All the companies that have been founded on the first seven days of the month, including the seventh. Sort them by their `acquisition price` in a descending order. Limit the search to 10 documents."
   ]
  },
  {
   "cell_type": "code",
   "execution_count": 30,
   "id": "936cbbd2",
   "metadata": {},
   "outputs": [],
   "source": [
    "seven_day= colec.find(\n",
    "    {\"founded_day\": {\"$gte\": 1, \"$lte\": 7}}\n",
    ")"
   ]
  },
  {
   "cell_type": "code",
   "execution_count": 33,
   "id": "bed9c3cd",
   "metadata": {},
   "outputs": [
    {
     "name": "stdout",
     "output_type": "stream",
     "text": [
      "Company: Facebook, Founded Day: 1\n",
      "Company: Omnidrive, Founded Day: 1\n",
      "Company: Postini, Founded Day: 2\n",
      "Company: Geni, Founded Day: 1\n",
      "Company: Fox Interactive Media, Founded Day: 1\n"
     ]
    }
   ],
   "source": [
    "first_seven_days = colec.find(\n",
    "    {\"founded_day\": {\"$gte\": 1, \"$lte\": 7}}\n",
    ").limit(5)\n",
    "\n",
    "for doc in first_seven_days:\n",
    "    print(f\"Company: {doc['name']}, Founded Day: {doc['founded_day']}\")\n"
   ]
  },
  {
   "cell_type": "markdown",
   "id": "fe9e1be6",
   "metadata": {},
   "source": [
    " # 16. All the companies on the 'web' category that have more than 4000 employees. Sort them by the amount of employees in ascending order"
   ]
  },
  {
   "cell_type": "code",
   "execution_count": 48,
   "id": "6ee9e58f",
   "metadata": {},
   "outputs": [
    {
     "name": "stdout",
     "output_type": "stream",
     "text": [
      "Company: Experian, Category Code: web, Number of Employees: 15500\n",
      "Company: eBay, Category Code: web, Number of Employees: 15000\n",
      "Company: Yahoo!, Category Code: web, Number of Employees: 13600\n",
      "Company: Los Angeles Times Media Group, Category Code: web, Number of Employees: 10000\n",
      "Company: Rakuten, Category Code: web, Number of Employees: 10000\n"
     ]
    }
   ],
   "source": [
    "web = {\n",
    "    \"category_code\": \"web\",\n",
    "    \"number_of_employees\": {\"$gt\": 4000}\n",
    "}\n",
    "\n",
    "\n",
    "web_companies = colec.find(query).sort('number_of_employees', -1).limit(5)\n",
    "\n",
    "for company in web_companies:\n",
    "    print(f\"Company: {company['name']}, Category Code: {company['category_code']}, Number of Employees: {company['number_of_employees']}\")\n"
   ]
  },
  {
   "cell_type": "markdown",
   "id": "06fed1ae",
   "metadata": {},
   "source": [
    "### 17. All the companies whose acquisition amount is more than 10.000.000, and currency is 'EUR'."
   ]
  },
  {
   "cell_type": "code",
   "execution_count": 54,
   "id": "e15f8c7e",
   "metadata": {},
   "outputs": [
    {
     "name": "stdout",
     "output_type": "stream",
     "text": [
      "Company: Wayfinder, Acquisition Amount: 24000000 EUR\n",
      "Company: ZYB, Acquisition Amount: 31500000 EUR\n",
      "Company: Greenfield Online, Acquisition Amount: 40000000 EUR\n",
      "Company: BioMed Central, Acquisition Amount: 43400000 EUR\n",
      "Company: Tuenti Technologies, Acquisition Amount: 70000000 EUR\n"
     ]
    }
   ],
   "source": [
    "ten_mil = colec.find(\n",
    "    {\n",
    "        \"acquisition.price_amount\": {\"$gt\":10000000},\n",
    "    \"acquisition.price_currency_code\": \"EUR\"\n",
    "    }\n",
    ").sort(\"acquisition.price_amount\", 1).limit(5)\n",
    "\n",
    "for doc in ten_mil:\n",
    "    print(f\"Company: {doc['name']}, Acquisition Amount: {doc['acquisition']['price_amount']} {doc['acquisition']['price_currency_code']}\")\n",
    "\n",
    "\n",
    "\n",
    "\n"
   ]
  },
  {
   "cell_type": "markdown",
   "id": "11da2d6f",
   "metadata": {},
   "source": [
    "### 18. All the companies that have been acquired on the first trimester of the year. Limit the search to 10 companies, and retrieve only their `name` and `acquisition` fields."
   ]
  },
  {
   "cell_type": "code",
   "execution_count": 57,
   "id": "9fd202ae",
   "metadata": {},
   "outputs": [
    {
     "name": "stdout",
     "output_type": "stream",
     "text": [
      "Company: StumbleUpon, Acquisition Amount: 29000000\n",
      "Company: Kyte, Acquisition Amount: None\n",
      "Company: Veoh, Acquisition Amount: None\n",
      "Company: Jingle Networks, Acquisition Amount: 62500000\n",
      "Company: NetRatings, Acquisition Amount: 327000000\n",
      "Company: blogTV, Acquisition Amount: None\n",
      "Company: Livestream, Acquisition Amount: None\n",
      "Company: delicious, Acquisition Amount: None\n",
      "Company: Jobster, Acquisition Amount: None\n",
      "Company: Spock, Acquisition Amount: None\n"
     ]
    }
   ],
   "source": [
    "first_term = colec.find(\n",
    "    {\n",
    "        'acquisition.acquired_month': {'$gte': 1, '$lte': 4}\n",
    "    }\n",
    ").limit(10)\n",
    "\n",
    "for doc in first_term:\n",
    "    print(f\"Company: {doc['name']}, Acquisition Amount: {doc['acquisition']['price_amount']}\")\n",
    "\n",
    "    "
   ]
  },
  {
   "cell_type": "code",
   "execution_count": null,
   "id": "c14472df",
   "metadata": {},
   "outputs": [],
   "source": []
  }
 ],
 "metadata": {
  "kernelspec": {
   "display_name": "clase",
   "language": "python",
   "name": "clase"
  },
  "language_info": {
   "codemirror_mode": {
    "name": "ipython",
    "version": 3
   },
   "file_extension": ".py",
   "mimetype": "text/x-python",
   "name": "python",
   "nbconvert_exporter": "python",
   "pygments_lexer": "ipython3",
   "version": "3.10.13"
  }
 },
 "nbformat": 4,
 "nbformat_minor": 5
}
