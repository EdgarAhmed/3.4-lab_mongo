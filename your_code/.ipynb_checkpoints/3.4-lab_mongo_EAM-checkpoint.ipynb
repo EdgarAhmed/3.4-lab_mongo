{
 "cells": [
  {
   "cell_type": "markdown",
   "metadata": {},
   "source": [
    "# Advanced Querying Mongo"
   ]
  },
  {
   "cell_type": "markdown",
   "metadata": {},
   "source": [
    "Importing libraries and setting up connection"
   ]
  },
  {
   "cell_type": "code",
   "execution_count": 1,
   "metadata": {},
   "outputs": [],
   "source": [
    "#%pip install pymongo"
   ]
  },
  {
   "cell_type": "code",
   "execution_count": 2,
   "metadata": {},
   "outputs": [],
   "source": [
    "from pymongo import MongoClient\n",
    "client = MongoClient(\"mongodb://localhost:27017\")"
   ]
  },
  {
   "cell_type": "markdown",
   "metadata": {},
   "source": [
    "### 1. All the companies whose name match 'Babelgum'. Retrieve only their `name` field."
   ]
  },
  {
   "cell_type": "code",
   "execution_count": 3,
   "metadata": {},
   "outputs": [],
   "source": [
    "#Importas Mongo y te contectas a Mongo\n",
    "\n",
    "from pymongo import MongoClient\n",
    "client = MongoClient(\"mongodb://localhost:27017\")\n"
   ]
  },
  {
   "cell_type": "code",
   "execution_count": 4,
   "metadata": {},
   "outputs": [],
   "source": [
    "db = client.companies  #Creas DB"
   ]
  },
  {
   "cell_type": "code",
   "execution_count": 5,
   "metadata": {},
   "outputs": [],
   "source": [
    "colec = db.collection"
   ]
  },
  {
   "cell_type": "code",
   "execution_count": 6,
   "metadata": {},
   "outputs": [
    {
     "data": {
      "text/plain": [
       "[{'name': 'Babelgum'}]"
      ]
     },
     "execution_count": 6,
     "metadata": {},
     "output_type": "execute_result"
    }
   ],
   "source": [
    "#Buscas las compañias. Solo hay 1.\n",
    "\n",
    "matching_companies = colec.find({\"name\": \"Babelgum\"},\n",
    "                                {\"name\": 1, \"_id\": 0})\n",
    "\n",
    "\n",
    "\n",
    "list(matching_companies)\n"
   ]
  },
  {
   "cell_type": "markdown",
   "metadata": {},
   "source": [
    "### 2. All the companies that have more than 5000 employees. Limit the search to 20 companies and sort them by **number of employees**."
   ]
  },
  {
   "cell_type": "code",
   "execution_count": 7,
   "metadata": {},
   "outputs": [
    {
     "name": "stdout",
     "output_type": "stream",
     "text": [
      "{'name': 'Facebook'}\n",
      "{'name': 'eBay'}\n",
      "{'name': 'Cisco'}\n",
      "{'name': 'Yahoo!'}\n",
      "{'name': 'Google'}\n",
      "{'name': 'Intel'}\n",
      "{'name': 'Nintendo'}\n",
      "{'name': 'Adobe Systems'}\n",
      "{'name': 'Sony'}\n",
      "{'name': 'PayPal'}\n",
      "{'name': 'The Walt Disney Company'}\n",
      "{'name': 'AOL'}\n",
      "{'name': 'Webkinz'}\n",
      "{'name': 'Sun Microsystems'}\n",
      "{'name': 'Nokia'}\n",
      "{'name': 'Rakuten'}\n",
      "{'name': 'Microsoft'}\n",
      "{'name': 'Apple'}\n",
      "{'name': 'NetApp'}\n",
      "{'name': 'Motorola Solutions'}\n"
     ]
    }
   ],
   "source": [
    "# Your Code\n",
    "\n",
    "com = colec.find({\"number_of_employees\": {\"$gt\": 5000}}, {\"name\": 1, \"_id\": 0}).limit(20)\n",
    "result = list(com)\n",
    "\n",
    "for doc in result:\n",
    "    print(doc)"
   ]
  },
  {
   "cell_type": "markdown",
   "metadata": {},
   "source": [
    "### 3. All the companies founded between 2000 and 2005, both years included. Retrieve only the `name` and `founded_year` fields."
   ]
  },
  {
   "cell_type": "code",
   "execution_count": 9,
   "metadata": {},
   "outputs": [
    {
     "name": "stdout",
     "output_type": "stream",
     "text": [
      "Company: Wetpaint, Foundation Year: 2005\n",
      "Company: Zoho, Foundation Year: 2005\n",
      "Company: Digg, Foundation Year: 2004\n",
      "Company: Facebook, Foundation Year: 2004\n",
      "Company: Omnidrive, Foundation Year: 2005\n",
      "Company: StumbleUpon, Foundation Year: 2002\n",
      "Company: Gizmoz, Foundation Year: 2003\n",
      "Company: Helio, Foundation Year: 2005\n",
      "Company: Plaxo, Foundation Year: 2002\n",
      "Company: Technorati, Foundation Year: 2002\n",
      "Company: AddThis, Foundation Year: 2004\n",
      "Company: Veoh, Foundation Year: 2004\n",
      "Company: Jingle Networks, Foundation Year: 2005\n",
      "Company: Meetup, Foundation Year: 2002\n",
      "Company: LifeLock, Foundation Year: 2005\n",
      "Company: Wesabe, Foundation Year: 2005\n",
      "Company: Jangl SMS, Foundation Year: 2005\n",
      "Company: SmugMug, Foundation Year: 2002\n",
      "Company: Jajah, Foundation Year: 2005\n",
      "Company: Skype, Foundation Year: 2003\n"
     ]
    }
   ],
   "source": [
    "com_fund = colec.find({\"founded_year\": {\"$gte\": 2000, \"$lte\": 2005}},\n",
    "                      {\"name\": 1, \"founded_year\": 1}\n",
    ").limit(20)\n",
    "\n",
    "com_fund\n",
    "\n",
    "for doc in com_fund:\n",
    "    print(f\"Company: {doc['name']}, Foundation Year: {doc['founded_year']}\")"
   ]
  },
  {
   "cell_type": "code",
   "execution_count": 8,
   "metadata": {},
   "outputs": [
    {
     "name": "stdout",
     "output_type": "stream",
     "text": [
      "{'name': 'Wetpaint', 'founded_year': 2005}\n",
      "{'name': 'Zoho', 'founded_year': 2005}\n",
      "{'name': 'Digg', 'founded_year': 2004}\n",
      "{'name': 'Facebook', 'founded_year': 2004}\n",
      "{'name': 'Omnidrive', 'founded_year': 2005}\n",
      "{'name': 'StumbleUpon', 'founded_year': 2002}\n",
      "{'name': 'Gizmoz', 'founded_year': 2003}\n",
      "{'name': 'Helio', 'founded_year': 2005}\n",
      "{'name': 'Plaxo', 'founded_year': 2002}\n",
      "{'name': 'Technorati', 'founded_year': 2002}\n",
      "{'name': 'AddThis', 'founded_year': 2004}\n",
      "{'name': 'Veoh', 'founded_year': 2004}\n",
      "{'name': 'Jingle Networks', 'founded_year': 2005}\n",
      "{'name': 'Meetup', 'founded_year': 2002}\n",
      "{'name': 'LifeLock', 'founded_year': 2005}\n",
      "{'name': 'Wesabe', 'founded_year': 2005}\n",
      "{'name': 'Jangl SMS', 'founded_year': 2005}\n",
      "{'name': 'SmugMug', 'founded_year': 2002}\n",
      "{'name': 'Jajah', 'founded_year': 2005}\n",
      "{'name': 'Skype', 'founded_year': 2003}\n"
     ]
    }
   ],
   "source": [
    "# Your Code\n",
    "\n",
    "\n",
    "\n",
    "com_fund = colec.find(\n",
    "    {\"founded_year\": {\"$gte\": 2000, \"$lte\": 2005}},\n",
    "    {\"name\": 1, \"founded_year\": 1, \"_id\": 0}\n",
    ").limit(20)\n",
    "\n",
    "for doc in com_fund:\n",
    "    print(doc)\n"
   ]
  },
  {
   "cell_type": "markdown",
   "metadata": {},
   "source": [
    "### 4. All the companies that had a Valuation Amount of more than 100.000.000 and have been founded before 2010. Retrieve only the `name` and `ipo` fields."
   ]
  },
  {
   "cell_type": "code",
   "execution_count": null,
   "metadata": {},
   "outputs": [],
   "source": [
    "# Your Code"
   ]
  },
  {
   "cell_type": "markdown",
   "metadata": {},
   "source": [
    "### 5. All the companies that have less than 1000 employees and have been founded before 2005. Order them by the number of employees and limit the search to 10 companies."
   ]
  },
  {
   "cell_type": "code",
   "execution_count": 10,
   "metadata": {},
   "outputs": [
    {
     "name": "stdout",
     "output_type": "stream",
     "text": [
      "Company: stylediary, Foundation Year: 2004, Number of Employees: 0\n",
      "Company: PartnerUp, Foundation Year: 2005, Number of Employees: 0\n",
      "Company: ThisNext, Foundation Year: 2005, Number of Employees: 0\n",
      "Company: Skype, Foundation Year: 2003, Number of Employees: 0\n",
      "Company: Fox Interactive Media, Foundation Year: 1979, Number of Employees: 0\n",
      "Company: Woophy, Foundation Year: 2005, Number of Employees: 0\n",
      "Company: Ticketmaster, Foundation Year: 1976, Number of Employees: 0\n",
      "Company: Marakana, Foundation Year: 2005, Number of Employees: 0\n",
      "Company: Attributor, Foundation Year: 2005, Number of Employees: 0\n",
      "Company: Wirenode, Foundation Year: 2005, Number of Employees: 0\n",
      "Company: YouTube, Foundation Year: 2005, Number of Employees: 0\n",
      "Company: MindTouch, Foundation Year: 2004, Number of Employees: 0\n",
      "Company: ElephantDrive, Foundation Year: 2005, Number of Employees: 0\n",
      "Company: Yeigo, Foundation Year: 2005, Number of Employees: 0\n",
      "Company: Compete, Foundation Year: 2000, Number of Employees: 0\n",
      "Company: Eurekster, Foundation Year: 2004, Number of Employees: 0\n",
      "Company: Simpy, Foundation Year: 2004, Number of Employees: 0\n",
      "Company: Snoozester, Foundation Year: 2005, Number of Employees: 0\n",
      "Company: Ceedo Technologies, Foundation Year: 2005, Number of Employees: 0\n",
      "Company: Bebo, Foundation Year: 2005, Number of Employees: 0\n"
     ]
    }
   ],
   "source": [
    "# Your Code\n",
    "\n",
    "less_1000 = colec.find(\n",
    "    {\n",
    "        \"founded_year\": {\"$lte\": 2005},\n",
    "        \"number_of_employees\": {\"$lte\": 1000}\n",
    "    },\n",
    "    {\"name\": 1, \"founded_year\": 1, \"number_of_employees\": 1, \"_id\": 0}\n",
    ").sort(\"number_of_employees\", 1).limit(20)\n",
    "\n",
    "for doc in less_1000:\n",
    "    print(f\"Company: {doc['name']}, Foundation Year: {doc['founded_year']}, Number of Employees: {doc['number_of_employees']}\")\n"
   ]
  },
  {
   "cell_type": "markdown",
   "metadata": {},
   "source": [
    "### 6. All the companies that don't include the `partners` field."
   ]
  },
  {
   "cell_type": "code",
   "execution_count": 11,
   "metadata": {},
   "outputs": [
    {
     "name": "stdout",
     "output_type": "stream",
     "text": [
      "Company: Bebo has no partner field.\n"
     ]
    }
   ],
   "source": [
    "# Your Code\n",
    "\n",
    "no_partn = colec.find(\n",
    "    {\"partners\": {\"$exists\": False}}\n",
    ")\n",
    "\n",
    "print(f\"Company: {doc['name']} has no partner field.\")\n"
   ]
  },
  {
   "cell_type": "markdown",
   "metadata": {},
   "source": [
    "### 7. All the companies that have a null type of value on the `category_code` field."
   ]
  },
  {
   "cell_type": "code",
   "execution_count": 13,
   "metadata": {},
   "outputs": [
    {
     "name": "stdout",
     "output_type": "stream",
     "text": [
      "Company: Collective\n",
      "Company: Snimmer\n",
      "Company: KoolIM\n",
      "Company: Level9 Media\n",
      "Company: VidKing\n",
      "Company: Drigg\n",
      "Company: SpaceTime\n",
      "Company: Touch Clarity\n",
      "Company: MMDAYS\n",
      "Company: Inside Group\n",
      "Company: Repeater Store\n",
      "Company: Tapesh\n",
      "Company: iPersians\n",
      "Company: NewPersia\n",
      "Company: Pyra Labs\n",
      "Company: Feedmap\n",
      "Company: NuvoMedia\n",
      "Company: Intwine\n",
      "Company: The Weinstein Company\n",
      "Company: ExecuNet\n"
     ]
    }
   ],
   "source": [
    "# Your Code\n",
    "\n",
    "null_cat = colec.find(\n",
    "    {\"category_code\": None}\n",
    ").limit(20)\n",
    "\n",
    "for doc in null_cat:\n",
    "    print(f\"Company: {doc['name']}\")"
   ]
  },
  {
   "cell_type": "markdown",
   "metadata": {},
   "source": [
    "### 8. All the companies that have at least 100 employees but less than 1000. Retrieve only the `name` and `number of employees` fields."
   ]
  },
  {
   "cell_type": "code",
   "execution_count": 14,
   "metadata": {},
   "outputs": [
    {
     "name": "stdout",
     "output_type": "stream",
     "text": [
      "Company Name: AdventNet, Number of Employees: 600\n",
      "Company Name: AddThis, Number of Employees: 120\n",
      "Company Name: OpenX, Number of Employees: 305\n",
      "Company Name: LifeLock, Number of Employees: 644\n",
      "Company Name: Jajah, Number of Employees: 110\n",
      "Company Name: Livestream, Number of Employees: 120\n",
      "Company Name: Ustream, Number of Employees: 250\n",
      "Company Name: iContact, Number of Employees: 300\n",
      "Company Name: Yelp, Number of Employees: 800\n",
      "Company Name: Dailymotion, Number of Employees: 120\n",
      "Company Name: RockYou, Number of Employees: 106\n",
      "Company Name: Meebo, Number of Employees: 200\n",
      "Company Name: Eventbrite, Number of Employees: 200\n",
      "Company Name: Box, Number of Employees: 950\n",
      "Company Name: Conduit, Number of Employees: 215\n",
      "Company Name: Redfin, Number of Employees: 100\n",
      "Company Name: oDesk, Number of Employees: 120\n",
      "Company Name: Simply Hired, Number of Employees: 100\n",
      "Company Name: PhotoBox, Number of Employees: 600\n",
      "Company Name: Spreadshirt, Number of Employees: 230\n"
     ]
    }
   ],
   "source": [
    "# Your Code\n",
    "\n",
    "more_100 = colec.find(\n",
    "    {\"number_of_employees\": {\"$gte\": 100, \"$lte\": 1000}},\n",
    "    {\"name\": 1, \"number_of_employees\": 1, \"_id\": 0}\n",
    ").limit(20)\n",
    "\n",
    "for doc in more_100:\n",
    "    print(f\"Company Name: {doc['name']}, Number of Employees: {doc['number_of_employees']}\")\n",
    "    "
   ]
  },
  {
   "cell_type": "markdown",
   "metadata": {},
   "source": [
    "### 9. Order all the companies by their IPO price in a descending order."
   ]
  },
  {
   "cell_type": "code",
   "execution_count": 16,
   "metadata": {},
   "outputs": [
    {
     "name": "stdout",
     "output_type": "stream",
     "text": [
      "Company: eBay, IPO Value: {'valuation_amount': None, 'valuation_currency_code': 'USD', 'pub_year': 1998, 'pub_month': 10, 'pub_day': 2, 'stock_symbol': 'NASDAQ:EBAY'}\n",
      "Company: Viacom, IPO Value: {'valuation_amount': None, 'valuation_currency_code': 'USD', 'pub_year': None, 'pub_month': None, 'pub_day': None, 'stock_symbol': 'NYSE:VIA'}\n",
      "Company: Facebook, IPO Value: {'valuation_amount': 104000000000.0, 'valuation_currency_code': 'USD', 'pub_year': 2012, 'pub_month': 5, 'pub_day': 18, 'stock_symbol': 'NASDAQ:FB'}\n",
      "Company: Twitter, IPO Value: {'valuation_amount': 18100000000.0, 'valuation_currency_code': 'USD', 'pub_year': 2013, 'pub_month': 11, 'pub_day': 7, 'stock_symbol': 'NYSE:TWTR'}\n",
      "Company: CBS, IPO Value: {'valuation_amount': None, 'valuation_currency_code': 'USD', 'pub_year': None, 'pub_month': None, 'pub_day': None, 'stock_symbol': 'NYSE:CBS'}\n"
     ]
    }
   ],
   "source": [
    "# Your Code  _sin hacer!\n",
    "ipo_val=colec.find(\n",
    "        {\"ipo.valuation_amount\": {\"$exists\": True}}\n",
    ").sort(\"ipo.ipo_value\", -1).limit(5)\n",
    "\n",
    "for doc in ipo_val:\n",
    "    print(f\"Company: {doc['name']}, IPO Value: {doc['ipo']}\")\n"
   ]
  },
  {
   "cell_type": "markdown",
   "metadata": {},
   "source": [
    "### 10. Retrieve the 10 companies with more employees, order by the `number of employees`"
   ]
  },
  {
   "cell_type": "code",
   "execution_count": 17,
   "metadata": {},
   "outputs": [
    {
     "name": "stdout",
     "output_type": "stream",
     "text": [
      "Company: Siemens, Number of Employees: 405000\n",
      "Company: IBM, Number of Employees: 388000\n",
      "Company: Toyota, Number of Employees: 320000\n",
      "Company: PayPal, Number of Employees: 300000\n",
      "Company: Nippon Telegraph and Telephone Corporation, Number of Employees: 227000\n",
      "Company: Samsung Electronics, Number of Employees: 221726\n",
      "Company: Accenture, Number of Employees: 205000\n",
      "Company: Tata Consultancy Services, Number of Employees: 200300\n",
      "Company: Flextronics International, Number of Employees: 200000\n",
      "Company: Safeway, Number of Employees: 186000\n"
     ]
    }
   ],
   "source": [
    "# Your Code\n",
    "\n",
    "top_10 = colec.find(\n",
    "    {},\n",
    "    {\"name\": 1, \"number_of_employees\": 1, \"_id\": 0}\n",
    ").sort(\"number_of_employees\", -1).limit(10)\n",
    "\n",
    "for doc in top_10:\n",
    "    print(f\"Company: {doc['name']}, Number of Employees: {doc['number_of_employees']}\")"
   ]
  },
  {
   "cell_type": "markdown",
   "metadata": {},
   "source": [
    "### 11. All the companies founded on the second semester of the year. Limit your search to 1000 companies."
   ]
  },
  {
   "cell_type": "code",
   "execution_count": 19,
   "metadata": {},
   "outputs": [
    {
     "name": "stdout",
     "output_type": "stream",
     "text": [
      "Company: Wetpaint, Founded Month: 10\n",
      "Company: Zoho, Founded Month: 9\n",
      "Company: Digg, Founded Month: 10\n",
      "Company: Omnidrive, Founded Month: 11\n",
      "Company: Postini, Founded Month: 6\n",
      "Company: Geni, Founded Month: 6\n",
      "Company: Fox Interactive Media, Founded Month: 6\n",
      "Company: eBay, Founded Month: 9\n",
      "Company: Joost, Founded Month: 10\n",
      "Company: Plaxo, Founded Month: 11\n",
      "Company: Powerset, Founded Month: 10\n",
      "Company: Technorati, Founded Month: 6\n",
      "Company: Sparter, Founded Month: 6\n",
      "Company: Kyte, Founded Month: 12\n",
      "Company: Thoof, Founded Month: 12\n",
      "Company: Jingle Networks, Founded Month: 9\n",
      "Company: LifeLock, Founded Month: 8\n",
      "Company: Wesabe, Founded Month: 12\n",
      "Company: SmugMug, Founded Month: 11\n",
      "Company: Google, Founded Month: 9\n"
     ]
    }
   ],
   "source": [
    "# Your Code\n",
    "\n",
    "second_sem = colec.find (\n",
    "    {\"founded_month\": {\"$gte\": 6, \"$lte\": 12}}\n",
    ").limit(20)\n",
    "\n",
    "for doc in second_sem:\n",
    "    print (f\"Company: {doc['name']}, Founded Month: {doc['founded_month']}\")"
   ]
  },
  {
   "cell_type": "markdown",
   "metadata": {},
   "source": [
    "### 12. All the companies founded before 2000 that have an acquisition amount of more than 10.000.000"
   ]
  },
  {
   "cell_type": "code",
   "execution_count": 20,
   "metadata": {},
   "outputs": [
    {
     "name": "stdout",
     "output_type": "stream",
     "text": [
      "Company: AdventNet, Founded Year: 1996\n",
      "Company: Postini, Founded Year: 1999\n",
      "Company: Fox Interactive Media, Founded Year: 1979\n",
      "Company: eBay, Founded Year: 1995\n",
      "Company: CBS, Founded Year: 1986\n",
      "Company: Viacom, Founded Year: 1971\n",
      "Company: Cisco, Founded Year: 1984\n",
      "Company: Yahoo!, Founded Year: 1994\n",
      "Company: Google, Founded Year: 1998\n",
      "Company: Intel, Founded Year: 1968\n",
      "Company: SideStep, Founded Year: 1999\n",
      "Company: BabyCenter, Founded Year: 1997\n",
      "Company: Zazzle, Founded Year: 1999\n",
      "Company: Ticketmaster, Founded Year: 1976\n",
      "Company: RegOnline, Founded Year: 1996\n",
      "Company: Scripps Networks Interactive, Founded Year: 1994\n",
      "Company: Recipezaar, Founded Year: 1999\n",
      "Company: ictv, Founded Year: 1994\n",
      "Company: Piczo, Founded Year: 1990\n",
      "Company: Cyworld, Founded Year: 1999\n"
     ]
    }
   ],
   "source": [
    "# Your Code\n",
    "\n",
    "before_2000 = colec.find(\n",
    "    {\"founded_year\": {\"$lt\": 2000}}\n",
    ").limit(20)\n",
    "\n",
    "for doc in before_2000:\n",
    "    print(f\"Company: {doc['name']}, Founded Year: {doc['founded_year']}\")"
   ]
  },
  {
   "cell_type": "code",
   "execution_count": 21,
   "metadata": {},
   "outputs": [
    {
     "name": "stdout",
     "output_type": "stream",
     "text": [
      "Company: The FeedRoom, Founded Year: 1999\n",
      "Company: Network Physics, Founded Year: 1999\n",
      "Company: Wavesat, Founded Year: 1993\n",
      "Company: Datum Legal, Founded Year: 1994\n"
     ]
    }
   ],
   "source": [
    "before_2000 = colec.find(\n",
    "    {\"founded_year\": {\"$lt\": 2000}, \"acquisition.price_amount\": 10000000}  \n",
    ")\n",
    "\n",
    "for doc in before_2000:\n",
    "    print(f\"Company: {doc['name']}, Founded Year: {doc['founded_year']}\")\n"
   ]
  },
  {
   "cell_type": "markdown",
   "metadata": {},
   "source": [
    "### 13. All the companies that have been acquired after 2010, order by the acquisition amount, and retrieve only their `name` and `acquisition` field."
   ]
  },
  {
   "cell_type": "code",
   "execution_count": 22,
   "metadata": {},
   "outputs": [
    {
     "name": "stdout",
     "output_type": "stream",
     "text": [
      "Company: Geni, Acquisition: None\n",
      "Company: Mashery, Acquisition: None\n",
      "Company: delicious, Acquisition: None\n",
      "Company: blogTV, Acquisition: None\n",
      "Company: Kyte, Acquisition: None\n"
     ]
    }
   ],
   "source": [
    "# Your Code\n",
    "\n",
    "after_2010 =colec.find(\n",
    "        { \"acquisition.acquired_year\": {\"$gt\":2010}}\n",
    ").sort(\"acquisition.price_amount\", 1).limit (5)\n",
    "                                    \n",
    "\n",
    "for doc in after_2010:\n",
    "    print(f\"Company: {doc['name']}, Acquisition: {doc['acquisition']['price_amount']}\")\n",
    "    "
   ]
  },
  {
   "cell_type": "markdown",
   "metadata": {},
   "source": [
    "### 14. Order the companies by their `founded year`, retrieving only their `name` and `founded year`."
   ]
  },
  {
   "cell_type": "code",
   "execution_count": 23,
   "metadata": {},
   "outputs": [
    {
     "name": "stdout",
     "output_type": "stream",
     "text": [
      "Company: Info, Founded Year: None\n",
      "Company: Lala, Founded Year: None\n",
      "Company: NetRatings, Founded Year: None\n",
      "Company: JotSpot, Founded Year: None\n",
      "Company: Flektor, Founded Year: None\n",
      "Company: Tun3r, Founded Year: None\n",
      "Company: There, Founded Year: None\n",
      "Company: SpinVox, Founded Year: None\n",
      "Company: Mercora, Founded Year: None\n",
      "Company: Gannett, Founded Year: None\n"
     ]
    }
   ],
   "source": [
    "# Your Code\n",
    "\n",
    "ordered_companies = colec.find(\n",
    "{},\n",
    "\n",
    "    {\"name\": 1, \"founded_year\": 1, \"_id\": 0}\n",
    ").sort(\"founded_year\", 1).limit(10)\n",
    "\n",
    "for doc in ordered_companies:\n",
    "    print(f\"Company: {doc['name']}, Founded Year: {doc['founded_year']}\")\n"
   ]
  },
  {
   "cell_type": "markdown",
   "metadata": {},
   "source": [
    "### 15. All the companies that have been founded on the first seven days of the month, including the seventh. Sort them by their `acquisition price` in a descending order. Limit the search to 10 documents."
   ]
  },
  {
   "cell_type": "code",
   "execution_count": 24,
   "metadata": {},
   "outputs": [
    {
     "name": "stdout",
     "output_type": "stream",
     "text": [
      "Company: Facebook, Founded Day: 1\n",
      "Company: Omnidrive, Founded Day: 1\n",
      "Company: Postini, Founded Day: 2\n",
      "Company: Geni, Founded Day: 1\n",
      "Company: Fox Interactive Media, Founded Day: 1\n"
     ]
    }
   ],
   "source": [
    "# Your Code\n",
    "\n",
    "first_seven_days = colec.find(\n",
    "    {\"founded_day\": {\"$gte\": 1, \"$lte\": 7}}\n",
    ").limit(5)\n",
    "\n",
    "for doc in first_seven_days:\n",
    "    print(f\"Company: {doc['name']}, Founded Day: {doc['founded_day']}\")\n"
   ]
  },
  {
   "cell_type": "markdown",
   "metadata": {},
   "source": [
    "### 16. All the companies on the 'web' `category` that have more than 4000 employees. Sort them by the amount of employees in ascending order."
   ]
  },
  {
   "cell_type": "code",
   "execution_count": 26,
   "metadata": {},
   "outputs": [
    {
     "name": "stdout",
     "output_type": "stream",
     "text": [
      "Company: Experian, Category Code: web, Number of Employees: 15500\n",
      "Company: eBay, Category Code: web, Number of Employees: 15000\n",
      "Company: Yahoo!, Category Code: web, Number of Employees: 13600\n",
      "Company: Los Angeles Times Media Group, Category Code: web, Number of Employees: 10000\n",
      "Company: Rakuten, Category Code: web, Number of Employees: 10000\n"
     ]
    }
   ],
   "source": [
    "# Your Code\n",
    "\n",
    "web = {\n",
    "    \"category_code\": \"web\",\n",
    "    \"number_of_employees\": {\"$gt\": 4000}\n",
    "}\n",
    "\n",
    "\n",
    "web_companies = colec.find(web).sort('number_of_employees', -1).limit(5)\n",
    "\n",
    "for company in web_companies:\n",
    "    print(f\"Company: {company['name']}, Category Code: {company['category_code']}, Number of Employees: {company['number_of_employees']}\")\n"
   ]
  },
  {
   "cell_type": "markdown",
   "metadata": {},
   "source": [
    "### 17. All the companies whose acquisition amount is more than 10.000.000, and currency is 'EUR'."
   ]
  },
  {
   "cell_type": "code",
   "execution_count": 27,
   "metadata": {},
   "outputs": [
    {
     "name": "stdout",
     "output_type": "stream",
     "text": [
      "Company: Wayfinder, Acquisition Amount: 24000000 EUR\n",
      "Company: ZYB, Acquisition Amount: 31500000 EUR\n",
      "Company: Greenfield Online, Acquisition Amount: 40000000 EUR\n",
      "Company: BioMed Central, Acquisition Amount: 43400000 EUR\n",
      "Company: Tuenti Technologies, Acquisition Amount: 70000000 EUR\n"
     ]
    }
   ],
   "source": [
    "# Your Code\n",
    "\n",
    "ten_mil = colec.find(\n",
    "    {\n",
    "        \"acquisition.price_amount\": {\"$gt\":10000000},\n",
    "    \"acquisition.price_currency_code\": \"EUR\"\n",
    "    }\n",
    ").sort(\"acquisition.price_amount\", 1).limit(5)\n",
    "\n",
    "for doc in ten_mil:\n",
    "    print(f\"Company: {doc['name']}, Acquisition Amount: {doc['acquisition']['price_amount']} {doc['acquisition']['price_currency_code']}\")\n",
    "\n",
    "\n",
    "\n"
   ]
  },
  {
   "cell_type": "markdown",
   "metadata": {},
   "source": [
    "### 18. All the companies that have been acquired on the first trimester of the year. Limit the search to 10 companies, and retrieve only their `name` and `acquisition` fields."
   ]
  },
  {
   "cell_type": "code",
   "execution_count": 28,
   "metadata": {},
   "outputs": [
    {
     "name": "stdout",
     "output_type": "stream",
     "text": [
      "Company: StumbleUpon, Acquisition Amount: 29000000\n",
      "Company: Kyte, Acquisition Amount: None\n",
      "Company: Veoh, Acquisition Amount: None\n",
      "Company: Jingle Networks, Acquisition Amount: 62500000\n",
      "Company: NetRatings, Acquisition Amount: 327000000\n",
      "Company: blogTV, Acquisition Amount: None\n",
      "Company: Livestream, Acquisition Amount: None\n",
      "Company: delicious, Acquisition Amount: None\n",
      "Company: Jobster, Acquisition Amount: None\n",
      "Company: Spock, Acquisition Amount: None\n"
     ]
    }
   ],
   "source": [
    "# Your Code\n",
    "\n",
    "first_term = colec.find(\n",
    "    {\n",
    "        'acquisition.acquired_month': {'$gte': 1, '$lte': 4}\n",
    "    }\n",
    ").limit(10)\n",
    "\n",
    "for doc in first_term:\n",
    "    print(f\"Company: {doc['name']}, Acquisition Amount: {doc['acquisition']['price_amount']}\")\n",
    "\n",
    "    "
   ]
  },
  {
   "cell_type": "markdown",
   "metadata": {},
   "source": [
    "# Bonus\n",
    "### 19. All the companies that have been founded between 2000 and 2010, but have not been acquired before 2011."
   ]
  },
  {
   "cell_type": "code",
   "execution_count": null,
   "metadata": {},
   "outputs": [],
   "source": [
    "# Your Code"
   ]
  },
  {
   "cell_type": "markdown",
   "metadata": {},
   "source": [
    "### 20. All the companies that have been 'deadpooled' after the third year."
   ]
  },
  {
   "cell_type": "code",
   "execution_count": null,
   "metadata": {},
   "outputs": [],
   "source": [
    "# Your Code"
   ]
  }
 ],
 "metadata": {
  "kernelspec": {
   "display_name": "Python 3 (ipykernel)",
   "language": "python",
   "name": "python3"
  },
  "language_info": {
   "codemirror_mode": {
    "name": "ipython",
    "version": 3
   },
   "file_extension": ".py",
   "mimetype": "text/x-python",
   "name": "python",
   "nbconvert_exporter": "python",
   "pygments_lexer": "ipython3",
   "version": "3.11.4"
  }
 },
 "nbformat": 4,
 "nbformat_minor": 2
}
